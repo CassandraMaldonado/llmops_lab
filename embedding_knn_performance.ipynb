{
  "cells": [
    {
      "cell_type": "markdown",
      "metadata": {},
      "source": [
        "# Assignment 1"
      ]
    },
    {
      "cell_type": "markdown",
      "metadata": {},
      "source": [
        "Cassandra Maldonado"
      ]
    },
    {
      "cell_type": "code",
      "execution_count": 1,
      "metadata": {
        "id": "dbTMd87egP69"
      },
      "outputs": [],
      "source": [
        "import pandas as pd\n",
        "import numpy as np\n",
        "import torch\n",
        "from transformers import BertTokenizer, BertModel\n",
        "from sklearn.neighbors import KNeighborsClassifier\n",
        "from sklearn.model_selection import train_test_split\n",
        "from sklearn.metrics import classification_report, confusion_matrix, f1_score\n",
        "from sklearn.preprocessing import LabelEncoder\n",
        "from sklearn.decomposition import PCA\n",
        "import umap.umap_ as umap\n",
        "import matplotlib.pyplot as plt\n",
        "import seaborn as sns\n",
        "from tqdm import tqdm\n",
        "import warnings\n",
        "warnings.filterwarnings('ignore')"
      ]
    },
    {
      "cell_type": "code",
      "execution_count": 2,
      "metadata": {
        "colab": {
          "base_uri": "https://localhost:8080/"
        },
        "id": "kzQIo5_OgeAM",
        "outputId": "0f92c88e-b170-464a-df71-9c3d6b7d81b3"
      },
      "outputs": [
        {
          "data": {
            "text/plain": [
              "<torch._C.Generator at 0x7b0fe1744490>"
            ]
          },
          "execution_count": 2,
          "metadata": {},
          "output_type": "execute_result"
        }
      ],
      "source": [
        "# Random seeds\n",
        "np.random.seed(42)\n",
        "torch.manual_seed(42)"
      ]
    },
    {
      "cell_type": "markdown",
      "metadata": {
        "id": "4tyEaR0MhTiO"
      },
      "source": [
        "1. Data and preprossesing"
      ]
    },
    {
      "cell_type": "code",
      "execution_count": 6,
      "metadata": {
        "id": "C_-uSmwFhQ2S"
      },
      "outputs": [],
      "source": [
        "# Keeping the first 1,000 rows.\n",
        "df = pd.read_csv('Phishing_Email.csv')"
      ]
    },
    {
      "cell_type": "code",
      "execution_count": 7,
      "metadata": {
        "colab": {
          "base_uri": "https://localhost:8080/",
          "height": 206
        },
        "id": "21f4PUpyh7fN",
        "outputId": "175d5e35-27c5-4eba-982c-e2a160274108"
      },
      "outputs": [
        {
          "data": {
            "application/vnd.google.colaboratory.intrinsic+json": {
              "summary": "{\n  \"name\": \"df\",\n  \"rows\": 1000,\n  \"fields\": [\n    {\n      \"column\": \"Unnamed: 0\",\n      \"properties\": {\n        \"dtype\": \"number\",\n        \"std\": 288,\n        \"min\": 0,\n        \"max\": 999,\n        \"num_unique_values\": 1000,\n        \"samples\": [\n          521,\n          737,\n          740\n        ],\n        \"semantic_type\": \"\",\n        \"description\": \"\"\n      }\n    },\n    {\n      \"column\": \"Email Text\",\n      \"properties\": {\n        \"dtype\": \"string\",\n        \"num_unique_values\": 972,\n        \"samples\": [\n          \"re : message from charles shen at williams charles , i am coordinating an offer fro you . i shall call you with the details later this week . vince charles shen on 10 / 18 / 2000 10 : 59 : 16 am to : vkamins @ enron . com cc : vkaminski @ aol . com subject : message from charles shen at williams dear vince : how are you ? it was very nice talking to you last friday , i was very impressed by your group , and very interested in this opportunity . if you need any additional information , please feel free to call me at 918 - 409 - 4308 , i look forward to hearing from you very soon . thank you . sincerely , charles do you yahoo ! ? yahoo ! messenger - talk while you surf ! it ' s free . http : / / im . yahoo . com /\",\n          \"Looks and sounds a hell of a lot like Clare's cat, Violence...A tall tail or is it a prowling panther?\\nhttp://www.thisislocallondon.co.uk/news/weird/display.var.633939.Bizarre+London.0.html\\nSecurity cameras at the Gardiner house filmed the cat\\nThe Plumstead panther has been spotted just yards from the scene of a \\nsighting made three weeks ago but this time it was caught on camera.Steve Gardiner, 41, claims to have spotted the large cat in his garden in \\nUpton Road, Plumstead, in the sixth reported sighting in Woolwich and Bexley \\nin just four weeks.Mr Gardiner told News Shopper he watched the big cat as it walked alongside \\nthe house at about 7.15am, on Wednesday, September 25, while his security \\ncameras captured it on film.The father-of-four described the black cat as about 3ft long and \\ntwo-and-a-half-foot high, with a large body.He said: \\\"It prowled past the patio doors moving with all the mannerisms of \\na hunter.\\\"It looked at me calmly before moving on.\\\"The bricklayer told how his work colleagues let him know News Shopper had \\nbeen following the big cat story so he decided to call our offices with news \\nof the sighting.His wife, Karen, 41, later checked the tape which had captured grainy images \\nof the large cat prowling through their garden.She said: \\\"I feel sorry for it not living in its natural habitat I'd hate \\nfor it to get hurt.\\\"Mr Gardiner told how he is convinced of the cat's existence saying how their \\nusually quiet 18-year-old dog barks at \\\"nothing\\\" in the garden but barked \\nthat morning.He warned: \\\"I don't think these cats are dangerous but, if cornered, they \\nmight jump you.\\\"Sightings of the large black cat are being reported all over the Plumstead \\nCommon and Shooters Hill as well at the Bexley area.If you have seen the big cat, call News Shopper on 01689 885712.12:27 Tuesday 8th October 2002_________________________________________________________________\\nSend and receive Hotmail on your mobile device: http://mobile.msn.com\\n------------------------ Yahoo! Groups Sponsor ---------------------~-->\\nSell a Home for Top $\\nhttp://us.click.yahoo.com/RrPZMC/jTmEAA/MVfIAA/7gSolB/TM\\n---------------------------------------------------------------------~->To unsubscribe from this group, send an email to:\\nforteana-unsubscribe@egroups.com Your use of Yahoo! Groups is subject to http://docs.yahoo.com/info/terms/ \",\n          \"  | Date: Mon, 22 Jul 2002 09:09:41 +0100\\n  | From: \\\"John P. Looney\\\" \\n  |[ ... ]\\n  | That's something that POSIX would do - make every platform as\\n  | equally broken, rather than standing up and saying \\\"how about\\n  | we try & make everyone better\\\". eh?  POSIX doesn't \\\"do\\\" anything.  POSIX is a de jour\\n specification for a voluntary minimal implementation to\\n encourage software transportability.  no-one, absolutely\\n no-one, has or ever had to implement POSIX or be restricted\\n to POSIX.  commercial considerations et.al. may encourage\\n some \\\"POSIX-compatibility\\\", but that's a freely-made choice. IMHO, the process's weakness is a general rule --- which\\n has been ignored on occasion --- to only consider \\\"formal\\\"\\n submissions of \\\"proven\\\" technologies.  that translates into\\n specifying more-or-less common parts of the existing *ix\\n implementations which actively contribute to the process.\\n most of the committees are loath to blue-sky, solicit\\n proposals/research, or pick an uncommon or unsponsored\\n implementation, even when manifestly superior.  (IMHO,\\n this is why POSIX is *ix and not, e.g., Plan9 or Inferno.) OTOH, considering the motivating force behind the process,\\n it can be argued the above \\\"weakness\\\" is a strength ....  | (why? Because in the real world, you can't. Somethings just suck) yep.  which is not to say POSIX \\\"sucks\\\" per se.  but the old\\n pre-POSIX *ix world arguably did, at least in terms of ease\\n of software porting.  one of *ix's claims to fame is it is\\n perhaps the first system where one could seriously consider\\n porting, more or less intact and with relative ease, software\\n from one architecture+platform+vendor to a radically utterly\\n different triple. however, as people discovered, there's a lot of difference\\n between \\\"consider porting\\\" and \\\"actually porting\\\" --- and\\n some problems were silly.  some were self-inflicted (e.g.,\\n assuming byte-orientation or a particular endianness); but\\n others were Frustrating \\\"system\\\" incompatibilities --- the\\n motivating force that lead to /usr/group, XPG (X/Open), POSIX,\\n Spec1170, Unix98, Common Unix, &tc.     \\u00c2\\u00abThe nice thing about standards is there's so many to\\n      choose from.\\u00c2\\u00bb   -- commonly attributed to bwk.cheers!\\n\\t-blf-\\n--\\n Innovative, very experienced, Unix and      | Brian Foster    Dublin, Ireland\\n Chorus (embedded RTOS) kernel internals     | e-mail: blf@utvinternet.ie\\n expert looking for a new position ...       | mobile: (+353 or 0)86 854 9268\\n  For a r\\u00c3\\u00a9sum\\u00c3\\u00a9, contact me, or see my website  http://www.blf.utvinternet.ie    Stop E$$o (ExxonMobile):  \\u00c2\\u00abWhatever you do, don't buy Esso --- they\\n     don't give a damn about global warming.\\u00c2\\u00bb    http://www.stopesso.com\\n     Supported by Greenpeace, Friends of the Earth, and numerous others...-- \\nIrish Linux Users' Group: ilug@linux.ie\\nhttp://www.linux.ie/mailman/listinfo/ilug for (un)subscription information.\\nList maintainer: listmaster@linux.ie\\n\"\n        ],\n        \"semantic_type\": \"\",\n        \"description\": \"\"\n      }\n    },\n    {\n      \"column\": \"Email Type\",\n      \"properties\": {\n        \"dtype\": \"category\",\n        \"num_unique_values\": 2,\n        \"samples\": [\n          \"Phishing Email\",\n          \"Safe Email\"\n        ],\n        \"semantic_type\": \"\",\n        \"description\": \"\"\n      }\n    }\n  ]\n}",
              "type": "dataframe",
              "variable_name": "df"
            },
            "text/html": [
              "\n",
              "  <div id=\"df-45ca8607-5bcb-4ade-967c-01a80c191fd6\" class=\"colab-df-container\">\n",
              "    <div>\n",
              "<style scoped>\n",
              "    .dataframe tbody tr th:only-of-type {\n",
              "        vertical-align: middle;\n",
              "    }\n",
              "\n",
              "    .dataframe tbody tr th {\n",
              "        vertical-align: top;\n",
              "    }\n",
              "\n",
              "    .dataframe thead th {\n",
              "        text-align: right;\n",
              "    }\n",
              "</style>\n",
              "<table border=\"1\" class=\"dataframe\">\n",
              "  <thead>\n",
              "    <tr style=\"text-align: right;\">\n",
              "      <th></th>\n",
              "      <th>Unnamed: 0</th>\n",
              "      <th>Email Text</th>\n",
              "      <th>Email Type</th>\n",
              "    </tr>\n",
              "  </thead>\n",
              "  <tbody>\n",
              "    <tr>\n",
              "      <th>0</th>\n",
              "      <td>0</td>\n",
              "      <td>re : 6 . 1100 , disc : uniformitarianism , re ...</td>\n",
              "      <td>Safe Email</td>\n",
              "    </tr>\n",
              "    <tr>\n",
              "      <th>1</th>\n",
              "      <td>1</td>\n",
              "      <td>the other side of * galicismos * * galicismo *...</td>\n",
              "      <td>Safe Email</td>\n",
              "    </tr>\n",
              "    <tr>\n",
              "      <th>2</th>\n",
              "      <td>2</td>\n",
              "      <td>re : equistar deal tickets are you still avail...</td>\n",
              "      <td>Safe Email</td>\n",
              "    </tr>\n",
              "    <tr>\n",
              "      <th>3</th>\n",
              "      <td>3</td>\n",
              "      <td>\\nHello I am your hot lil horny toy.\\n    I am...</td>\n",
              "      <td>Phishing Email</td>\n",
              "    </tr>\n",
              "    <tr>\n",
              "      <th>4</th>\n",
              "      <td>4</td>\n",
              "      <td>software at incredibly low prices ( 86 % lower...</td>\n",
              "      <td>Phishing Email</td>\n",
              "    </tr>\n",
              "  </tbody>\n",
              "</table>\n",
              "</div>\n",
              "    <div class=\"colab-df-buttons\">\n",
              "\n",
              "  <div class=\"colab-df-container\">\n",
              "    <button class=\"colab-df-convert\" onclick=\"convertToInteractive('df-45ca8607-5bcb-4ade-967c-01a80c191fd6')\"\n",
              "            title=\"Convert this dataframe to an interactive table.\"\n",
              "            style=\"display:none;\">\n",
              "\n",
              "  <svg xmlns=\"http://www.w3.org/2000/svg\" height=\"24px\" viewBox=\"0 -960 960 960\">\n",
              "    <path d=\"M120-120v-720h720v720H120Zm60-500h600v-160H180v160Zm220 220h160v-160H400v160Zm0 220h160v-160H400v160ZM180-400h160v-160H180v160Zm440 0h160v-160H620v160ZM180-180h160v-160H180v160Zm440 0h160v-160H620v160Z\"/>\n",
              "  </svg>\n",
              "    </button>\n",
              "\n",
              "  <style>\n",
              "    .colab-df-container {\n",
              "      display:flex;\n",
              "      gap: 12px;\n",
              "    }\n",
              "\n",
              "    .colab-df-convert {\n",
              "      background-color: #E8F0FE;\n",
              "      border: none;\n",
              "      border-radius: 50%;\n",
              "      cursor: pointer;\n",
              "      display: none;\n",
              "      fill: #1967D2;\n",
              "      height: 32px;\n",
              "      padding: 0 0 0 0;\n",
              "      width: 32px;\n",
              "    }\n",
              "\n",
              "    .colab-df-convert:hover {\n",
              "      background-color: #E2EBFA;\n",
              "      box-shadow: 0px 1px 2px rgba(60, 64, 67, 0.3), 0px 1px 3px 1px rgba(60, 64, 67, 0.15);\n",
              "      fill: #174EA6;\n",
              "    }\n",
              "\n",
              "    .colab-df-buttons div {\n",
              "      margin-bottom: 4px;\n",
              "    }\n",
              "\n",
              "    [theme=dark] .colab-df-convert {\n",
              "      background-color: #3B4455;\n",
              "      fill: #D2E3FC;\n",
              "    }\n",
              "\n",
              "    [theme=dark] .colab-df-convert:hover {\n",
              "      background-color: #434B5C;\n",
              "      box-shadow: 0px 1px 3px 1px rgba(0, 0, 0, 0.15);\n",
              "      filter: drop-shadow(0px 1px 2px rgba(0, 0, 0, 0.3));\n",
              "      fill: #FFFFFF;\n",
              "    }\n",
              "  </style>\n",
              "\n",
              "    <script>\n",
              "      const buttonEl =\n",
              "        document.querySelector('#df-45ca8607-5bcb-4ade-967c-01a80c191fd6 button.colab-df-convert');\n",
              "      buttonEl.style.display =\n",
              "        google.colab.kernel.accessAllowed ? 'block' : 'none';\n",
              "\n",
              "      async function convertToInteractive(key) {\n",
              "        const element = document.querySelector('#df-45ca8607-5bcb-4ade-967c-01a80c191fd6');\n",
              "        const dataTable =\n",
              "          await google.colab.kernel.invokeFunction('convertToInteractive',\n",
              "                                                    [key], {});\n",
              "        if (!dataTable) return;\n",
              "\n",
              "        const docLinkHtml = 'Like what you see? Visit the ' +\n",
              "          '<a target=\"_blank\" href=https://colab.research.google.com/notebooks/data_table.ipynb>data table notebook</a>'\n",
              "          + ' to learn more about interactive tables.';\n",
              "        element.innerHTML = '';\n",
              "        dataTable['output_type'] = 'display_data';\n",
              "        await google.colab.output.renderOutput(dataTable, element);\n",
              "        const docLink = document.createElement('div');\n",
              "        docLink.innerHTML = docLinkHtml;\n",
              "        element.appendChild(docLink);\n",
              "      }\n",
              "    </script>\n",
              "  </div>\n",
              "\n",
              "\n",
              "    <div id=\"df-ee2ad002-0d41-4604-b3bb-a6c2623d8639\">\n",
              "      <button class=\"colab-df-quickchart\" onclick=\"quickchart('df-ee2ad002-0d41-4604-b3bb-a6c2623d8639')\"\n",
              "                title=\"Suggest charts\"\n",
              "                style=\"display:none;\">\n",
              "\n",
              "<svg xmlns=\"http://www.w3.org/2000/svg\" height=\"24px\"viewBox=\"0 0 24 24\"\n",
              "     width=\"24px\">\n",
              "    <g>\n",
              "        <path d=\"M19 3H5c-1.1 0-2 .9-2 2v14c0 1.1.9 2 2 2h14c1.1 0 2-.9 2-2V5c0-1.1-.9-2-2-2zM9 17H7v-7h2v7zm4 0h-2V7h2v10zm4 0h-2v-4h2v4z\"/>\n",
              "    </g>\n",
              "</svg>\n",
              "      </button>\n",
              "\n",
              "<style>\n",
              "  .colab-df-quickchart {\n",
              "      --bg-color: #E8F0FE;\n",
              "      --fill-color: #1967D2;\n",
              "      --hover-bg-color: #E2EBFA;\n",
              "      --hover-fill-color: #174EA6;\n",
              "      --disabled-fill-color: #AAA;\n",
              "      --disabled-bg-color: #DDD;\n",
              "  }\n",
              "\n",
              "  [theme=dark] .colab-df-quickchart {\n",
              "      --bg-color: #3B4455;\n",
              "      --fill-color: #D2E3FC;\n",
              "      --hover-bg-color: #434B5C;\n",
              "      --hover-fill-color: #FFFFFF;\n",
              "      --disabled-bg-color: #3B4455;\n",
              "      --disabled-fill-color: #666;\n",
              "  }\n",
              "\n",
              "  .colab-df-quickchart {\n",
              "    background-color: var(--bg-color);\n",
              "    border: none;\n",
              "    border-radius: 50%;\n",
              "    cursor: pointer;\n",
              "    display: none;\n",
              "    fill: var(--fill-color);\n",
              "    height: 32px;\n",
              "    padding: 0;\n",
              "    width: 32px;\n",
              "  }\n",
              "\n",
              "  .colab-df-quickchart:hover {\n",
              "    background-color: var(--hover-bg-color);\n",
              "    box-shadow: 0 1px 2px rgba(60, 64, 67, 0.3), 0 1px 3px 1px rgba(60, 64, 67, 0.15);\n",
              "    fill: var(--button-hover-fill-color);\n",
              "  }\n",
              "\n",
              "  .colab-df-quickchart-complete:disabled,\n",
              "  .colab-df-quickchart-complete:disabled:hover {\n",
              "    background-color: var(--disabled-bg-color);\n",
              "    fill: var(--disabled-fill-color);\n",
              "    box-shadow: none;\n",
              "  }\n",
              "\n",
              "  .colab-df-spinner {\n",
              "    border: 2px solid var(--fill-color);\n",
              "    border-color: transparent;\n",
              "    border-bottom-color: var(--fill-color);\n",
              "    animation:\n",
              "      spin 1s steps(1) infinite;\n",
              "  }\n",
              "\n",
              "  @keyframes spin {\n",
              "    0% {\n",
              "      border-color: transparent;\n",
              "      border-bottom-color: var(--fill-color);\n",
              "      border-left-color: var(--fill-color);\n",
              "    }\n",
              "    20% {\n",
              "      border-color: transparent;\n",
              "      border-left-color: var(--fill-color);\n",
              "      border-top-color: var(--fill-color);\n",
              "    }\n",
              "    30% {\n",
              "      border-color: transparent;\n",
              "      border-left-color: var(--fill-color);\n",
              "      border-top-color: var(--fill-color);\n",
              "      border-right-color: var(--fill-color);\n",
              "    }\n",
              "    40% {\n",
              "      border-color: transparent;\n",
              "      border-right-color: var(--fill-color);\n",
              "      border-top-color: var(--fill-color);\n",
              "    }\n",
              "    60% {\n",
              "      border-color: transparent;\n",
              "      border-right-color: var(--fill-color);\n",
              "    }\n",
              "    80% {\n",
              "      border-color: transparent;\n",
              "      border-right-color: var(--fill-color);\n",
              "      border-bottom-color: var(--fill-color);\n",
              "    }\n",
              "    90% {\n",
              "      border-color: transparent;\n",
              "      border-bottom-color: var(--fill-color);\n",
              "    }\n",
              "  }\n",
              "</style>\n",
              "\n",
              "      <script>\n",
              "        async function quickchart(key) {\n",
              "          const quickchartButtonEl =\n",
              "            document.querySelector('#' + key + ' button');\n",
              "          quickchartButtonEl.disabled = true;  // To prevent multiple clicks.\n",
              "          quickchartButtonEl.classList.add('colab-df-spinner');\n",
              "          try {\n",
              "            const charts = await google.colab.kernel.invokeFunction(\n",
              "                'suggestCharts', [key], {});\n",
              "          } catch (error) {\n",
              "            console.error('Error during call to suggestCharts:', error);\n",
              "          }\n",
              "          quickchartButtonEl.classList.remove('colab-df-spinner');\n",
              "          quickchartButtonEl.classList.add('colab-df-quickchart-complete');\n",
              "        }\n",
              "        (() => {\n",
              "          let quickchartButtonEl =\n",
              "            document.querySelector('#df-ee2ad002-0d41-4604-b3bb-a6c2623d8639 button');\n",
              "          quickchartButtonEl.style.display =\n",
              "            google.colab.kernel.accessAllowed ? 'block' : 'none';\n",
              "        })();\n",
              "      </script>\n",
              "    </div>\n",
              "\n",
              "    </div>\n",
              "  </div>\n"
            ],
            "text/plain": [
              "   Unnamed: 0                                         Email Text  \\\n",
              "0           0  re : 6 . 1100 , disc : uniformitarianism , re ...   \n",
              "1           1  the other side of * galicismos * * galicismo *...   \n",
              "2           2  re : equistar deal tickets are you still avail...   \n",
              "3           3  \\nHello I am your hot lil horny toy.\\n    I am...   \n",
              "4           4  software at incredibly low prices ( 86 % lower...   \n",
              "\n",
              "       Email Type  \n",
              "0      Safe Email  \n",
              "1      Safe Email  \n",
              "2      Safe Email  \n",
              "3  Phishing Email  \n",
              "4  Phishing Email  "
            ]
          },
          "execution_count": 7,
          "metadata": {},
          "output_type": "execute_result"
        }
      ],
      "source": [
        "df.head(5)"
      ]
    },
    {
      "cell_type": "code",
      "execution_count": 7,
      "metadata": {
        "colab": {
          "base_uri": "https://localhost:8080/"
        },
        "id": "ddQi4-aKhnpx",
        "outputId": "784a5dd9-7387-4e45-a843-c46bd7d16540"
      },
      "outputs": [
        {
          "name": "stdout",
          "output_type": "stream",
          "text": [
            "Dataset loaded: 1000 rows\n",
            "Columns: ['Unnamed: 0', 'Email Text', 'Email Type']\n",
            "\n",
            "Dataset info:\n",
            "<class 'pandas.core.frame.DataFrame'>\n",
            "RangeIndex: 1000 entries, 0 to 999\n",
            "Data columns (total 3 columns):\n",
            " #   Column      Non-Null Count  Dtype \n",
            "---  ------      --------------  ----- \n",
            " 0   Unnamed: 0  1000 non-null   int64 \n",
            " 1   Email Text  998 non-null    object\n",
            " 2   Email Type  1000 non-null   object\n",
            "dtypes: int64(1), object(2)\n",
            "memory usage: 23.6+ KB\n",
            "None\n"
          ]
        }
      ],
      "source": [
        "df = df.head(1000).copy()\n",
        "\n",
        "print(f\"Dataset loaded: {len(df)} rows\")\n",
        "print(f\"Columns: {df.columns.tolist()}\")\n",
        "print(\"\\nDataset info:\")\n",
        "print(df.info())"
      ]
    },
    {
      "cell_type": "code",
      "execution_count": 8,
      "metadata": {
        "colab": {
          "base_uri": "https://localhost:8080/"
        },
        "id": "sdoTpF30h20G",
        "outputId": "b3626516-7e91-40ce-9126-8f2d6decd594"
      },
      "outputs": [
        {
          "name": "stdout",
          "output_type": "stream",
          "text": [
            "\n",
            "Label distribution:\n",
            "Email Type\n",
            "Safe Email        596\n",
            "Phishing Email    404\n",
            "Name: count, dtype: int64\n"
          ]
        }
      ],
      "source": [
        "print(\"\\nLabel distribution:\")\n",
        "print(df['Email Type'].value_counts())"
      ]
    },
    {
      "cell_type": "markdown",
      "metadata": {},
      "source": [
        "I implemented a KNN classifier using BERT embeddings to classify phishing vs. legitimate emails from the first 1,000 rows of the dataset."
      ]
    },
    {
      "cell_type": "markdown",
      "metadata": {
        "id": "SRUr4GuSiyCT"
      },
      "source": [
        "2. BERT Model"
      ]
    },
    {
      "cell_type": "code",
      "execution_count": 9,
      "metadata": {
        "colab": {
          "base_uri": "https://localhost:8080/",
          "height": 981,
          "referenced_widgets": [
            "3d39bb5c8e4c441694fe1c134523004c",
            "de64e61db6fd47d988b66323b47f2900",
            "d7643f63c07745f49810709a9225cb8b",
            "c6a448e9c877490293ae8e6fad6880df",
            "e2635778104c4101b98c7c7cedc9e90a",
            "8ef8f0cee72541b49cf248a6278e2d77",
            "580efa21652a4b488b0811acc677db45",
            "967546f7a56b4ea18fd9728cc8180670",
            "131b05854497444693a33e4a7e8131fd",
            "28153e5b6aa44ae79fc6024b5aaa4007",
            "d353a790a7b447e88641de354c5f9345",
            "11e66b7de1d54b5a9c455a1e49fb80f9",
            "60dca35f2c8f4c14bc5648b7727e1d16",
            "975af512cfdb4e4196b06194311b4f86",
            "cce03043798042c8b7f701e5c998475b",
            "0a7977c3fafb43c99c89fa350b23fe16",
            "7785808b9d6c478cbdd88d72a62d3812",
            "34481a3e8f3b49f599db055e32a4f072",
            "9eb3f889029d4d76a998f39ec67374c0",
            "adf70ee0bdca42aabb3c0b7d59fbf8c7",
            "061b924326854baa97e702e109d29509",
            "717071fb18ea466a81af9887eb9bbd80",
            "276adcf8c8c74913a92855ea1e9bc4f7",
            "0722f9caeca24e31ad479512df6afc42",
            "7e1bea57519c45bdab9f7e82abfe5d42",
            "f9b15a35c25d4eaebccdb8313a37b545",
            "cb1f4834617249408cbbf4fc999ea443",
            "4c4dc2f0f88d4e439c86ab4751680eab",
            "022282005ffa41fb8cb297924dfd012c",
            "39e4015f957742d9a031f4737e1b5527",
            "3a5ad1d01242454ba92dbe70d498b89d",
            "179a442b729e40369bbc75185f58df9a",
            "d967cfdd065746bdae6dae34eb8f45cd",
            "4116a5f98dd3467e90ca4da61585c111",
            "9731cedb95754987874c8c97b75695b0",
            "abb647de7dff4f919aa26c253fcd010a",
            "266cbb35d615456da8afc15271a0c00f",
            "db52bb11acff47f6b7e819cec764969b",
            "0d4be83c3bb547688a63864948b6ea92",
            "931d3997685148019d7a3dda6d9fd731",
            "8dab6928a0eb4a7eb1381d2848ae37ee",
            "2b3e1eaa60d04a128cc9e9e8d596fc31",
            "aca0b0e7480b4779b07e1d3ff6f36628",
            "3265a4a705e244af8549ae83ba2a4a45",
            "777756331aa7441891ae7b1198dc9f76",
            "97079b56f761457687432cdd520bac35",
            "bd073ed979284d39b1430d896943c237",
            "d39d3e59be634724b8d06da35b71f122",
            "58b1a94458d54476ab412aaf4261a5ec",
            "8fd190af6bc5495abf25286d85a749b0",
            "35bb4bfa07fc43c186feb506e48f06ca",
            "c7355eaf29ff44af913631a6c6afe64e",
            "ccd88c0a68544599947c5a8ec4be5bba",
            "e39780fd87ab4c9998ffcd8042e3a89c",
            "6dfc6420159347eb8b370ecf03e58333"
          ]
        },
        "id": "EtIgSW9-iw8i",
        "outputId": "9227a81b-cb11-4b83-9c12-a8f7992e2aff"
      },
      "outputs": [
        {
          "name": "stdout",
          "output_type": "stream",
          "text": [
            "\n",
            "Loading BERT model and tokenizer...\n"
          ]
        },
        {
          "data": {
            "application/vnd.jupyter.widget-view+json": {
              "model_id": "3d39bb5c8e4c441694fe1c134523004c",
              "version_major": 2,
              "version_minor": 0
            },
            "text/plain": [
              "tokenizer_config.json:   0%|          | 0.00/48.0 [00:00<?, ?B/s]"
            ]
          },
          "metadata": {},
          "output_type": "display_data"
        },
        {
          "data": {
            "application/vnd.jupyter.widget-view+json": {
              "model_id": "11e66b7de1d54b5a9c455a1e49fb80f9",
              "version_major": 2,
              "version_minor": 0
            },
            "text/plain": [
              "vocab.txt:   0%|          | 0.00/232k [00:00<?, ?B/s]"
            ]
          },
          "metadata": {},
          "output_type": "display_data"
        },
        {
          "data": {
            "application/vnd.jupyter.widget-view+json": {
              "model_id": "276adcf8c8c74913a92855ea1e9bc4f7",
              "version_major": 2,
              "version_minor": 0
            },
            "text/plain": [
              "tokenizer.json:   0%|          | 0.00/466k [00:00<?, ?B/s]"
            ]
          },
          "metadata": {},
          "output_type": "display_data"
        },
        {
          "data": {
            "application/vnd.jupyter.widget-view+json": {
              "model_id": "4116a5f98dd3467e90ca4da61585c111",
              "version_major": 2,
              "version_minor": 0
            },
            "text/plain": [
              "config.json:   0%|          | 0.00/570 [00:00<?, ?B/s]"
            ]
          },
          "metadata": {},
          "output_type": "display_data"
        },
        {
          "data": {
            "application/vnd.jupyter.widget-view+json": {
              "model_id": "777756331aa7441891ae7b1198dc9f76",
              "version_major": 2,
              "version_minor": 0
            },
            "text/plain": [
              "model.safetensors:   0%|          | 0.00/440M [00:00<?, ?B/s]"
            ]
          },
          "metadata": {},
          "output_type": "display_data"
        },
        {
          "data": {
            "text/plain": [
              "BertModel(\n",
              "  (embeddings): BertEmbeddings(\n",
              "    (word_embeddings): Embedding(30522, 768, padding_idx=0)\n",
              "    (position_embeddings): Embedding(512, 768)\n",
              "    (token_type_embeddings): Embedding(2, 768)\n",
              "    (LayerNorm): LayerNorm((768,), eps=1e-12, elementwise_affine=True)\n",
              "    (dropout): Dropout(p=0.1, inplace=False)\n",
              "  )\n",
              "  (encoder): BertEncoder(\n",
              "    (layer): ModuleList(\n",
              "      (0-11): 12 x BertLayer(\n",
              "        (attention): BertAttention(\n",
              "          (self): BertSdpaSelfAttention(\n",
              "            (query): Linear(in_features=768, out_features=768, bias=True)\n",
              "            (key): Linear(in_features=768, out_features=768, bias=True)\n",
              "            (value): Linear(in_features=768, out_features=768, bias=True)\n",
              "            (dropout): Dropout(p=0.1, inplace=False)\n",
              "          )\n",
              "          (output): BertSelfOutput(\n",
              "            (dense): Linear(in_features=768, out_features=768, bias=True)\n",
              "            (LayerNorm): LayerNorm((768,), eps=1e-12, elementwise_affine=True)\n",
              "            (dropout): Dropout(p=0.1, inplace=False)\n",
              "          )\n",
              "        )\n",
              "        (intermediate): BertIntermediate(\n",
              "          (dense): Linear(in_features=768, out_features=3072, bias=True)\n",
              "          (intermediate_act_fn): GELUActivation()\n",
              "        )\n",
              "        (output): BertOutput(\n",
              "          (dense): Linear(in_features=3072, out_features=768, bias=True)\n",
              "          (LayerNorm): LayerNorm((768,), eps=1e-12, elementwise_affine=True)\n",
              "          (dropout): Dropout(p=0.1, inplace=False)\n",
              "        )\n",
              "      )\n",
              "    )\n",
              "  )\n",
              "  (pooler): BertPooler(\n",
              "    (dense): Linear(in_features=768, out_features=768, bias=True)\n",
              "    (activation): Tanh()\n",
              "  )\n",
              ")"
            ]
          },
          "execution_count": 9,
          "metadata": {},
          "output_type": "execute_result"
        }
      ],
      "source": [
        "print(\"\\nLoading BERT model and tokenizer...\")\n",
        "tokenizer = BertTokenizer.from_pretrained('bert-base-uncased')\n",
        "model = BertModel.from_pretrained('bert-base-uncased', output_hidden_states=True)\n",
        "model.eval()"
      ]
    },
    {
      "cell_type": "markdown",
      "metadata": {},
      "source": [
        "I used the pre-trained BERT model to extract two types of 768 dimensional embeddings:\n",
        "- [CLS] Token Embedding\n",
        "- Average Token Embedding"
      ]
    },
    {
      "cell_type": "markdown",
      "metadata": {
        "id": "r5rlxPTujPGg"
      },
      "source": [
        "3. Embedding extraction"
      ]
    },
    {
      "cell_type": "code",
      "execution_count": 10,
      "metadata": {
        "id": "-MLp9ShajVel"
      },
      "outputs": [],
      "source": [
        "# To get the CLS token embedding and average token embedding.\n",
        "def get_bert_embeddings(text, max_length=512):\n",
        "    # Tokenizing the input\n",
        "    inputs = tokenizer(text,\n",
        "                      return_tensors='pt',\n",
        "                      max_length=max_length,\n",
        "                      truncation=True,\n",
        "                      padding=True,\n",
        "                      add_special_tokens=True)\n",
        "\n",
        "    with torch.no_grad():\n",
        "        outputs = model(**inputs)\n",
        "        hidden_states = outputs.hidden_states\n",
        "\n",
        "        # Last layer of the hidden states\n",
        "        last_hidden_state = hidden_states[-1]\n",
        "        # [1, sequence lenght, 768]\n",
        "\n",
        "        # First token\n",
        "        cls_embedding = last_hidden_state[0, 0, :].numpy()\n",
        "\n",
        "        # Average token embedding excluding padding\n",
        "        attention_mask = inputs['attention_mask'][0]\n",
        "        actual_length = attention_mask.sum().item()\n",
        "\n",
        "        # Average embeddings of tokens\n",
        "        if actual_length > 2:\n",
        "            token_embeddings = last_hidden_state[0, 1:actual_length-1, :]\n",
        "            avg_embedding = token_embeddings.mean(dim=0).numpy()\n",
        "        else:\n",
        "            avg_embedding = cls_embedding\n",
        "\n",
        "    return cls_embedding, avg_embedding"
      ]
    },
    {
      "cell_type": "code",
      "execution_count": 11,
      "metadata": {
        "id": "AcMLeWGXjk6c"
      },
      "outputs": [],
      "source": [
        "# Extracting the embeddings for a list of texts in the batches\n",
        "def extract_embeddings_batch(texts, batch_size=32):\n",
        "    cls_embeddings = []\n",
        "    avg_embeddings = []\n",
        "\n",
        "    print(f\"Extracting embeddings for {len(texts)} texts.\")\n",
        "\n",
        "    for i in tqdm(range(0, len(texts), batch_size)):\n",
        "        batch_texts = texts[i:i+batch_size]\n",
        "\n",
        "        for text in batch_texts:\n",
        "            cls_emb, avg_emb = get_bert_embeddings(str(text))\n",
        "            cls_embeddings.append(cls_emb)\n",
        "            avg_embeddings.append(avg_emb)\n",
        "\n",
        "    return np.array(cls_embeddings), np.array(avg_embeddings)"
      ]
    },
    {
      "cell_type": "code",
      "execution_count": 12,
      "metadata": {
        "colab": {
          "base_uri": "https://localhost:8080/"
        },
        "id": "JIPQQh3kkSEM",
        "outputId": "febc87a0-8e0a-48b3-c4bc-471545ad77ff"
      },
      "outputs": [
        {
          "name": "stdout",
          "output_type": "stream",
          "text": [
            "Extracting embeddings for 1000 texts.\n"
          ]
        },
        {
          "name": "stderr",
          "output_type": "stream",
          "text": [
            "100%|██████████| 63/63 [09:24<00:00,  8.96s/it]"
          ]
        },
        {
          "name": "stdout",
          "output_type": "stream",
          "text": [
            "CLS embeddings shape: (1000, 768)\n",
            "Average embeddings shape: (1000, 768)\n"
          ]
        },
        {
          "name": "stderr",
          "output_type": "stream",
          "text": [
            "\n"
          ]
        }
      ],
      "source": [
        "# Extracting embeddings for all texts\n",
        "texts = df['Email Text'].tolist()\n",
        "cls_embeddings, avg_embeddings = extract_embeddings_batch(texts, batch_size=16)\n",
        "\n",
        "print(f\"CLS embeddings shape: {cls_embeddings.shape}\")\n",
        "print(f\"Average embeddings shape: {avg_embeddings.shape}\")"
      ]
    },
    {
      "cell_type": "code",
      "execution_count": 13,
      "metadata": {
        "colab": {
          "base_uri": "https://localhost:8080/"
        },
        "id": "Vf8Yg0meHlWO",
        "outputId": "866561da-e2b7-461f-90fb-5168094f7939"
      },
      "outputs": [
        {
          "name": "stdout",
          "output_type": "stream",
          "text": [
            "Label classes: ['Phishing Email' 'Safe Email']\n"
          ]
        }
      ],
      "source": [
        "label_encoder = LabelEncoder()\n",
        "labels = label_encoder.fit_transform(df['Email Type'])\n",
        "print(f\"Label classes: {label_encoder.classes_}\")"
      ]
    },
    {
      "cell_type": "markdown",
      "metadata": {
        "id": "0V7Je4QbK9ih"
      },
      "source": [
        "5. Train-test"
      ]
    },
    {
      "cell_type": "code",
      "execution_count": 14,
      "metadata": {
        "colab": {
          "base_uri": "https://localhost:8080/"
        },
        "id": "Ma7Bk7ZvK79Y",
        "outputId": "2e1fdab5-45eb-44b0-e088-dea3d6a23150"
      },
      "outputs": [
        {
          "name": "stdout",
          "output_type": "stream",
          "text": [
            "Training set size: 800\n",
            "Test set size: 200\n"
          ]
        }
      ],
      "source": [
        "# Splitting the data for CLS embeddings\n",
        "X_train_cls, X_test_cls, y_train, y_test = train_test_split(\n",
        "    cls_embeddings, labels, test_size=0.2, random_state=42, stratify=labels\n",
        ")\n",
        "\n",
        "# Splitting the data for average embeddings\n",
        "X_train_avg, X_test_avg, _, _ = train_test_split(\n",
        "    avg_embeddings, labels, test_size=0.2, random_state=42, stratify=labels\n",
        ")\n",
        "\n",
        "print(f\"Training set size: {len(X_train_cls)}\")\n",
        "print(f\"Test set size: {len(X_test_cls)}\")\n"
      ]
    },
    {
      "cell_type": "markdown",
      "metadata": {
        "id": "6bq3KDF-LKNc"
      },
      "source": [
        "6. KNN Classification"
      ]
    },
    {
      "cell_type": "code",
      "execution_count": 15,
      "metadata": {
        "id": "hsYP3SsWLI-d"
      },
      "outputs": [],
      "source": [
        "def evaluate_knn(X_train, X_test, y_train, y_test, embedding_type, k=5):\n",
        "    print(f\"KNN Classification with {embedding_type} ===\")\n",
        "\n",
        "    # Training the KNN classifier\n",
        "    knn = KNeighborsClassifier(n_neighbors=k, metric='cosine')\n",
        "    knn.fit(X_train, y_train)\n",
        "\n",
        "    # Predictions\n",
        "    y_pred = knn.predict(X_test)\n",
        "\n",
        "    # F1 score\n",
        "    f1 = f1_score(y_test, y_pred, average='weighted')\n",
        "\n",
        "    print(f\"F1 Score: {f1:.4f}\")\n",
        "\n",
        "    # Classification report\n",
        "    print(\"Classification Report:\")\n",
        "    print(classification_report(y_test, y_pred, target_names=label_encoder.classes_))\n",
        "\n",
        "    # Confusion matrix\n",
        "    cm = confusion_matrix(y_test, y_pred)\n",
        "\n",
        "    plt.figure(figsize=(8, 6))\n",
        "    sns.heatmap(cm, annot=True, fmt='d', cmap='Blues',\n",
        "                xticklabels=label_encoder.classes_,\n",
        "                yticklabels=label_encoder.classes_)\n",
        "    plt.title(f'Confusion Matrix - {embedding_type}')\n",
        "    plt.ylabel('True Label')\n",
        "    plt.xlabel('Predicted Label')\n",
        "    plt.show()\n",
        "\n",
        "    return f1, knn"
      ]
    },
    {
      "cell_type": "markdown",
      "metadata": {
        "id": "Sk1YsL4wLjPW"
      },
      "source": [
        "BONUS 1: CLS vs Average Embeddings"
      ]
    },
    {
      "cell_type": "code",
      "execution_count": 17,
      "metadata": {
        "colab": {
          "base_uri": "https://localhost:8080/",
          "height": 1000
        },
        "id": "FGNLsAh9Lh77",
        "outputId": "7fa26508-e958-43a0-99dd-81f84bd3d8d9"
      },
      "outputs": [
        {
          "name": "stdout",
          "output_type": "stream",
          "text": [
            "BONUS 1: COMPARING CLS vs AVERAGE EMBEDDINGS\n",
            "KNN Classification with CLS Token Embeddings ===\n",
            "F1 Score: 0.9147\n",
            "Classification Report:\n",
            "                precision    recall  f1-score   support\n",
            "\n",
            "Phishing Email       0.91      0.88      0.89        81\n",
            "    Safe Email       0.92      0.94      0.93       119\n",
            "\n",
            "      accuracy                           0.92       200\n",
            "     macro avg       0.91      0.91      0.91       200\n",
            "  weighted avg       0.91      0.92      0.91       200\n",
            "\n"
          ]
        },
        {
          "data": {
            "image/png": "[encoded data removed]",
            "text/plain": [
              "<Figure size 800x600 with 2 Axes>"
            ]
          },
          "metadata": {},
          "output_type": "display_data"
        },
        {
          "name": "stdout",
          "output_type": "stream",
          "text": [
            "KNN Classification with Average Token Embeddings ===\n",
            "F1 Score: 0.9249\n",
            "Classification Report:\n",
            "                precision    recall  f1-score   support\n",
            "\n",
            "Phishing Email       0.91      0.90      0.91        81\n",
            "    Safe Email       0.93      0.94      0.94       119\n",
            "\n",
            "      accuracy                           0.93       200\n",
            "     macro avg       0.92      0.92      0.92       200\n",
            "  weighted avg       0.92      0.93      0.92       200\n",
            "\n"
          ]
        },
        {
          "data": {
            "image/png": "[encoded data removed]",
            "text/plain": [
              "<Figure size 800x600 with 2 Axes>"
            ]
          },
          "metadata": {},
          "output_type": "display_data"
        },
        {
          "name": "stdout",
          "output_type": "stream",
          "text": [
            "RESULTS\n",
            "CLS Token Embeddings F1 Score: 0.9147\n",
            "Average Token Embeddings F1 Score: 0.9249\n",
            "Difference: 0.0102\n",
            "Average token embeddings perform better.\n"
          ]
        }
      ],
      "source": [
        "print(\"BONUS 1: COMPARING CLS vs AVERAGE EMBEDDINGS\")\n",
        "\n",
        "# Evaluating the CLS embeddings\n",
        "f1_cls, knn_cls = evaluate_knn(X_train_cls, X_test_cls, y_train, y_test, \"CLS Token Embeddings\")\n",
        "\n",
        "# Evaluating the average embeddings\n",
        "f1_avg, knn_avg = evaluate_knn(X_train_avg, X_test_avg, y_train, y_test, \"Average Token Embeddings\")\n",
        "\n",
        "# Results\n",
        "print(\"RESULTS\")\n",
        "print(f\"CLS Token Embeddings F1 Score: {f1_cls:.4f}\")\n",
        "print(f\"Average Token Embeddings F1 Score: {f1_avg:.4f}\")\n",
        "print(f\"Difference: {abs(f1_cls - f1_avg):.4f}\")\n",
        "\n",
        "if f1_cls > f1_avg:\n",
        "    print(\"CLS token embeddings perform better.\")\n",
        "else:\n",
        "    print(\"Average token embeddings perform better.\")"
      ]
    },
    {
      "cell_type": "markdown",
      "metadata": {},
      "source": [
        "The average token embeddings outperformed CLS embeddings with a difference of 0.01 F1 points in favor of the averaging token embeddings.\n",
        "\n",
        "This result was initially surprising since CLS tokens are specifically designed for classification tasks. However, after analyzing the confusion matrices, I found that average embeddings made fewer errors:\n",
        "\n",
        "- CLS embeddings: 71 correct phishing, 10 false negatives, 7 false positives and 112 correct legitimate.\n",
        "- Average embeddings: 73 correct phishing, 8 false negatives, 7 false positives and 112 correct legitimate.\n",
        "\n",
        "The average method captured 2 more true phishing emails and had 2 fewer false negatives. This suggests that for email classification the information across all tokens provides richer semantic representation than the compressed CLS token."
      ]
    },
    {
      "cell_type": "markdown",
      "metadata": {
        "id": "_r-McgjVML89"
      },
      "source": [
        "# BONUS 2: Dimensionality Reduction"
      ]
    },
    {
      "cell_type": "markdown",
      "metadata": {},
      "source": [
        "I applied PCA and UMAP dimensionality reduction to compare high dimensional vs. 2D performance."
      ]
    },
    {
      "cell_type": "code",
      "execution_count": 19,
      "metadata": {
        "colab": {
          "base_uri": "https://localhost:8080/",
          "height": 1000
        },
        "id": "cjxH6dWrMJcL",
        "outputId": "d3fbcb1c-e2ef-42f4-8c38-7b4d05d4b8af"
      },
      "outputs": [
        {
          "name": "stdout",
          "output_type": "stream",
          "text": [
            "BONUS 2: DIMENSIONALITY REDUCTION COMPARISON\n",
            "PCA explained variance ratio: [0.15810768 0.07028369]\n",
            "Total variance explained: 0.2284\n",
            "Original 768 dimensional CLS Embeddings\n",
            "KNN Classification with Original 768D CLS Embeddings ===\n",
            "F1 Score: 0.9147\n",
            "Classification Report:\n",
            "                precision    recall  f1-score   support\n",
            "\n",
            "Phishing Email       0.91      0.88      0.89        81\n",
            "    Safe Email       0.92      0.94      0.93       119\n",
            "\n",
            "      accuracy                           0.92       200\n",
            "     macro avg       0.91      0.91      0.91       200\n",
            "  weighted avg       0.91      0.92      0.91       200\n",
            "\n"
          ]
        },
        {
          "data": {
            "image/png": "[encoded data removed]",
            "text/plain": [
              "<Figure size 800x600 with 2 Axes>"
            ]
          },
          "metadata": {},
          "output_type": "display_data"
        },
        {
          "name": "stdout",
          "output_type": "stream",
          "text": [
            "PCA reduced 2D Embeddings\n",
            "KNN Classification with PCA-reduced 2D Embeddings ===\n",
            "F1 Score: 0.5424\n",
            "Classification Report:\n",
            "                precision    recall  f1-score   support\n",
            "\n",
            "Phishing Email       0.43      0.41      0.42        81\n",
            "    Safe Email       0.61      0.64      0.63       119\n",
            "\n",
            "      accuracy                           0.55       200\n",
            "     macro avg       0.52      0.52      0.52       200\n",
            "  weighted avg       0.54      0.55      0.54       200\n",
            "\n"
          ]
        },
        {
          "data": {
            "image/png": "[encoded data removed]",
            "text/plain": [
              "<Figure size 800x600 with 2 Axes>"
            ]
          },
          "metadata": {},
          "output_type": "display_data"
        },
        {
          "name": "stdout",
          "output_type": "stream",
          "text": [
            "UMAP reduced 2D Embeddings\n",
            "KNN Classification with UMAP-reduced 2D Embeddings ===\n",
            "F1 Score: 0.6578\n",
            "Classification Report:\n",
            "                precision    recall  f1-score   support\n",
            "\n",
            "Phishing Email       0.61      0.49      0.54        81\n",
            "    Safe Email       0.69      0.78      0.74       119\n",
            "\n",
            "      accuracy                           0.67       200\n",
            "     macro avg       0.65      0.64      0.64       200\n",
            "  weighted avg       0.66      0.67      0.66       200\n",
            "\n"
          ]
        },
        {
          "data": {
            "image/png": "[encoded data removed]",
            "text/plain": [
              "<Figure size 800x600 with 2 Axes>"
            ]
          },
          "metadata": {},
          "output_type": "display_data"
        }
      ],
      "source": [
        "# PCA\n",
        "pca = PCA(n_components=2, random_state=42)\n",
        "X_train_pca = pca.fit_transform(X_train_cls)\n",
        "X_test_pca = pca.transform(X_test_cls)\n",
        "\n",
        "print(f\"PCA explained variance ratio: {pca.explained_variance_ratio_}\")\n",
        "print(f\"Total variance explained: {sum(pca.explained_variance_ratio_):.4f}\")\n",
        "\n",
        "# UMAP\n",
        "umap_reducer = umap.UMAP(n_components=2, random_state=42, n_neighbors=15, min_dist=0.1)\n",
        "X_train_umap = umap_reducer.fit_transform(X_train_cls)\n",
        "X_test_umap = umap_reducer.transform(X_test_cls)\n",
        "\n",
        "# Evaluating the original embeddings\n",
        "print(\"Original 768 dimensional CLS Embeddings\")\n",
        "f1_original, _ = evaluate_knn(X_train_cls, X_test_cls, y_train, y_test, \"Original 768D CLS Embeddings\")\n",
        "\n",
        "# Evaluating the PCA reduced embeddings\n",
        "print(\"PCA reduced 2D Embeddings\")\n",
        "f1_pca, _ = evaluate_knn(X_train_pca, X_test_pca, y_train, y_test, \"PCA reduced 2D Embeddings\")\n",
        "\n",
        "# Evaluating the UMAP reduced embeddings\n",
        "print(\"UMAP reduced 2D Embeddings\")\n",
        "f1_umap, _ = evaluate_knn(X_train_umap, X_test_umap, y_train, y_test, \"UMAP reduced 2D Embeddings\")"
      ]
    },
    {
      "cell_type": "markdown",
      "metadata": {},
      "source": [
        "There was a dramatic performance drop with the dimensionality reduction:\n",
        "\n",
        "Original 768D F1: 0.914 with a 92% accuracy.\n",
        "PCA 2D F1: 0.542 with a 55% accuracy and a drop of 0.37.\n",
        "UMAP 2D F1: 0.657 with 67% accuracy and drop of 0.25.\n",
        "\n",
        "PCA performed poorly explaining only 22.8% of the total variance with two components:\n",
        "\n",
        "- First component: 15.81% variance.\n",
        "- Second component: 7.03% variance.\n",
        "\n",
        "The information loss is evident in both the performance metrics and confusion matrix since phishing only detected 33 out of 81 correctly identified, which is a 41% recall. There were  many false positives, it was 43 legitimate emails misclassified as phishing.\n",
        "\n",
        "UMAP significantly outperformed PCA despite using the same 2 dimensions. It showed better phishing detection of 40 out of 81 correctly identified, with a 49% recall. It had fewer false positives with only 26 legitimate emails misclassified."
      ]
    },
    {
      "cell_type": "code",
      "execution_count": 20,
      "metadata": {
        "colab": {
          "base_uri": "https://localhost:8080/",
          "height": 274
        },
        "id": "yKtwO-hgM2O3",
        "outputId": "bfd3b808-5605-42c8-c287-068a32a4f336"
      },
      "outputs": [
        {
          "data": {
            "image/png": "[encoded data removed]",
            "text/plain": [
              "<Figure size 1500x600 with 4 Axes>"
            ]
          },
          "metadata": {},
          "output_type": "display_data"
        }
      ],
      "source": [
        "fig, axes = plt.subplots(1, 2, figsize=(15, 6))\n",
        "\n",
        "# PCA\n",
        "scatter1 = axes[0].scatter(X_train_pca[:, 0], X_train_pca[:, 1], c=y_train,\n",
        "                          cmap='viridis', alpha=0.6, s=50)\n",
        "axes[0].set_title('PCA reduced Embeddings (Training Set)')\n",
        "axes[0].set_xlabel('First Principal Component')\n",
        "axes[0].set_ylabel('Second Principal Component')\n",
        "plt.colorbar(scatter1, ax=axes[0])\n",
        "\n",
        "# UMAP\n",
        "scatter2 = axes[1].scatter(X_train_umap[:, 0], X_train_umap[:, 1], c=y_train,\n",
        "                          cmap='viridis', alpha=0.6, s=50)\n",
        "axes[1].set_title('UMAP reduced Embeddings (Training Set)')\n",
        "axes[1].set_xlabel('UMAP Component 1')\n",
        "axes[1].set_ylabel('UMAP Component 2')\n",
        "plt.colorbar(scatter2, ax=axes[1])\n",
        "\n",
        "plt.tight_layout()\n",
        "plt.show()"
      ]
    },
    {
      "cell_type": "markdown",
      "metadata": {},
      "source": [
        "The scatter plots clearly show why UMAP outperformed PCA. PCA has highly overlapping clusters with no clear separation between classes and a random distribution suggesting linear dimensionality reduction fails to preserve class structure. This can be seen since the yellow and purple points are intermixed throughout.\n",
        "\n",
        "UMAP shows a much clearer clustering with distinct regions for each class, it also shows a better preservation of the local structure allowing similar emails to cluster together. There is a visible separation between the phishing and legitimate email groups."
      ]
    },
    {
      "cell_type": "code",
      "execution_count": 21,
      "metadata": {
        "colab": {
          "base_uri": "https://localhost:8080/"
        },
        "id": "s58xMYquNNvG",
        "outputId": "4a313124-c23f-41c0-a6aa-588ce27100f0"
      },
      "outputs": [
        {
          "name": "stdout",
          "output_type": "stream",
          "text": [
            "FINAL RESULTS SUMMARY\n",
            "Embedding Method Comparison:\n",
            "CLS Token Embeddings:     F1 = 0.9147\n",
            "Average Token Embeddings: F1 = 0.9249\n",
            "Dimensionality Reduction Comparison:\n",
            "Original 768D Embeddings: F1 = 0.9147\n",
            "PCA 2D Embeddings:        F1 = 0.5424\n",
            "UMAP 2D Embeddings:       F1 = 0.6578\n",
            "Dimensionality Reduction Impact:\n",
            "PCA Performance Drop:     0.3723\n",
            "UMAP Performance Drop:    0.2569\n",
            "Results Table:\n",
            "            Method  F1 Score  Dimensions\n",
            "    CLS Embeddings  0.914727         768\n",
            "Average Embeddings  0.924924         768\n",
            "     Original 768D  0.914727         768\n",
            "            PCA 2D  0.542436           2\n",
            "           UMAP 2D  0.657839           2\n",
            "Best performing method: Average Embeddings (F1: 0.9249)\n"
          ]
        }
      ],
      "source": [
        "print(\"FINAL RESULTS SUMMARY\")\n",
        "\n",
        "print(\"Embedding Method Comparison:\")\n",
        "print(f\"CLS Token Embeddings:     F1 = {f1_cls:.4f}\")\n",
        "print(f\"Average Token Embeddings: F1 = {f1_avg:.4f}\")\n",
        "\n",
        "print(\"Dimensionality Reduction Comparison:\")\n",
        "print(f\"Original 768D Embeddings: F1 = {f1_original:.4f}\")\n",
        "print(f\"PCA 2D Embeddings:        F1 = {f1_pca:.4f}\")\n",
        "print(f\"UMAP 2D Embeddings:       F1 = {f1_umap:.4f}\")\n",
        "\n",
        "print(\"Dimensionality Reduction Impact:\")\n",
        "print(f\"PCA Performance Drop:     {f1_original - f1_pca:.4f}\")\n",
        "print(f\"UMAP Performance Drop:    {f1_original - f1_umap:.4f}\")\n",
        "\n",
        "# Performance comparison table\n",
        "results_df = pd.DataFrame({\n",
        "    'Method': ['CLS Embeddings', 'Average Embeddings', 'Original 768D', 'PCA 2D', 'UMAP 2D'],\n",
        "    'F1 Score': [f1_cls, f1_avg, f1_original, f1_pca, f1_umap],\n",
        "    'Dimensions': [768, 768, 768, 2, 2]\n",
        "})\n",
        "\n",
        "print(\"Results Table:\")\n",
        "print(results_df.to_string(index=False))\n",
        "\n",
        "# Best performing method\n",
        "best_method = results_df.loc[results_df['F1 Score'].idxmax(), 'Method']\n",
        "best_f1 = results_df['F1 Score'].max()\n",
        "print(f\"Best performing method: {best_method} (F1: {best_f1:.4f})\")"
      ]
    },
    {
      "cell_type": "markdown",
      "metadata": {},
      "source": [
        "While CLS tokens are designed for classification, the averaging approach captured more discriminative features for this task. This could be due to the fact that phishing word indicators may appear throughout the email and averaging reduces the risk of information bottlenecking that might occur with CLS.\n",
        "\n",
        "High-dimensional BERT embeddings contain essential information that can't be compressed to 2D without significant performance loss. 768D embeddings have an excellent performance but are computationally expensive. 2D embeddings gives fast computation but big accuracy loss.\n",
        "UMAP is better tahan PCA because non-linear methods better preserve classification structure.\n",
        "\n",
        "Looking at the detailed classification reports, I noticed interesting patterns. The safe email detection was consistently high across all methods with a 92-94% F1 score. The phishing email detection is more sensitive to the embedding method with average embeddings having a 91% F1 score and the CLS embeddings having a 89% F1 score. I noticed that dimensionality reduction affected hurt phishing detection, this could mean that phishing emails have more subtle patterns that require the full embedding space to detect effectively."
      ]
    }
  ],
  "metadata": {
    "accelerator": "GPU",
    "colab": {
      "gpuType": "T4",
      "provenance": []
    },
    "kernelspec": {
      "display_name": "Python 3",
      "name": "python3"
    },
    "language_info": {
      "name": "python"
    },
    "widgets": {
      "application/vnd.jupyter.widget-state+json": {
        "022282005ffa41fb8cb297924dfd012c": {
          "model_module": "@jupyter-widgets/controls",
          "model_module_version": "1.5.0",
          "model_name": "DescriptionStyleModel",
          "state": {
            "_model_module": "@jupyter-widgets/controls",
            "_model_module_version": "1.5.0",
            "_model_name": "DescriptionStyleModel",
            "_view_count": null,
            "_view_module": "@jupyter-widgets/base",
            "_view_module_version": "1.2.0",
            "_view_name": "StyleView",
            "description_width": ""
          }
        },
        "061b924326854baa97e702e109d29509": {
          "model_module": "@jupyter-widgets/base",
          "model_module_version": "1.2.0",
          "model_name": "LayoutModel",
          "state": {
            "_model_module": "@jupyter-widgets/base",
            "_model_module_version": "1.2.0",
            "_model_name": "LayoutModel",
            "_view_count": null,
            "_view_module": "@jupyter-widgets/base",
            "_view_module_version": "1.2.0",
            "_view_name": "LayoutView",
            "align_content": null,
            "align_items": null,
            "align_self": null,
            "border": null,
            "bottom": null,
            "display": null,
            "flex": null,
            "flex_flow": null,
            "grid_area": null,
            "grid_auto_columns": null,
            "grid_auto_flow": null,
            "grid_auto_rows": null,
            "grid_column": null,
            "grid_gap": null,
            "grid_row": null,
            "grid_template_areas": null,
            "grid_template_columns": null,
            "grid_template_rows": null,
            "height": null,
            "justify_content": null,
            "justify_items": null,
            "left": null,
            "margin": null,
            "max_height": null,
            "max_width": null,
            "min_height": null,
            "min_width": null,
            "object_fit": null,
            "object_position": null,
            "order": null,
            "overflow": null,
            "overflow_x": null,
            "overflow_y": null,
            "padding": null,
            "right": null,
            "top": null,
            "visibility": null,
            "width": null
          }
        },
        "0722f9caeca24e31ad479512df6afc42": {
          "model_module": "@jupyter-widgets/controls",
          "model_module_version": "1.5.0",
          "model_name": "HTMLModel",
          "state": {
            "_dom_classes": [],
            "_model_module": "@jupyter-widgets/controls",
            "_model_module_version": "1.5.0",
            "_model_name": "HTMLModel",
            "_view_count": null,
            "_view_module": "@jupyter-widgets/controls",
            "_view_module_version": "1.5.0",
            "_view_name": "HTMLView",
            "description": "",
            "description_tooltip": null,
            "layout": "IPY_MODEL_4c4dc2f0f88d4e439c86ab4751680eab",
            "placeholder": "​",
            "style": "IPY_MODEL_022282005ffa41fb8cb297924dfd012c",
            "value": "tokenizer.json: 100%"
          }
        },
        "0a7977c3fafb43c99c89fa350b23fe16": {
          "model_module": "@jupyter-widgets/base",
          "model_module_version": "1.2.0",
          "model_name": "LayoutModel",
          "state": {
            "_model_module": "@jupyter-widgets/base",
            "_model_module_version": "1.2.0",
            "_model_name": "LayoutModel",
            "_view_count": null,
            "_view_module": "@jupyter-widgets/base",
            "_view_module_version": "1.2.0",
            "_view_name": "LayoutView",
            "align_content": null,
            "align_items": null,
            "align_self": null,
            "border": null,
            "bottom": null,
            "display": null,
            "flex": null,
            "flex_flow": null,
            "grid_area": null,
            "grid_auto_columns": null,
            "grid_auto_flow": null,
            "grid_auto_rows": null,
            "grid_column": null,
            "grid_gap": null,
            "grid_row": null,
            "grid_template_areas": null,
            "grid_template_columns": null,
            "grid_template_rows": null,
            "height": null,
            "justify_content": null,
            "justify_items": null,
            "left": null,
            "margin": null,
            "max_height": null,
            "max_width": null,
            "min_height": null,
            "min_width": null,
            "object_fit": null,
            "object_position": null,
            "order": null,
            "overflow": null,
            "overflow_x": null,
            "overflow_y": null,
            "padding": null,
            "right": null,
            "top": null,
            "visibility": null,
            "width": null
          }
        },
        "0d4be83c3bb547688a63864948b6ea92": {
          "model_module": "@jupyter-widgets/base",
          "model_module_version": "1.2.0",
          "model_name": "LayoutModel",
          "state": {
            "_model_module": "@jupyter-widgets/base",
            "_model_module_version": "1.2.0",
            "_model_name": "LayoutModel",
            "_view_count": null,
            "_view_module": "@jupyter-widgets/base",
            "_view_module_version": "1.2.0",
            "_view_name": "LayoutView",
            "align_content": null,
            "align_items": null,
            "align_self": null,
            "border": null,
            "bottom": null,
            "display": null,
            "flex": null,
            "flex_flow": null,
            "grid_area": null,
            "grid_auto_columns": null,
            "grid_auto_flow": null,
            "grid_auto_rows": null,
            "grid_column": null,
            "grid_gap": null,
            "grid_row": null,
            "grid_template_areas": null,
            "grid_template_columns": null,
            "grid_template_rows": null,
            "height": null,
            "justify_content": null,
            "justify_items": null,
            "left": null,
            "margin": null,
            "max_height": null,
            "max_width": null,
            "min_height": null,
            "min_width": null,
            "object_fit": null,
            "object_position": null,
            "order": null,
            "overflow": null,
            "overflow_x": null,
            "overflow_y": null,
            "padding": null,
            "right": null,
            "top": null,
            "visibility": null,
            "width": null
          }
        },
        "11e66b7de1d54b5a9c455a1e49fb80f9": {
          "model_module": "@jupyter-widgets/controls",
          "model_module_version": "1.5.0",
          "model_name": "HBoxModel",
          "state": {
            "_dom_classes": [],
            "_model_module": "@jupyter-widgets/controls",
            "_model_module_version": "1.5.0",
            "_model_name": "HBoxModel",
            "_view_count": null,
            "_view_module": "@jupyter-widgets/controls",
            "_view_module_version": "1.5.0",
            "_view_name": "HBoxView",
            "box_style": "",
            "children": [
              "IPY_MODEL_60dca35f2c8f4c14bc5648b7727e1d16",
              "IPY_MODEL_975af512cfdb4e4196b06194311b4f86",
              "IPY_MODEL_cce03043798042c8b7f701e5c998475b"
            ],
            "layout": "IPY_MODEL_0a7977c3fafb43c99c89fa350b23fe16"
          }
        },
        "131b05854497444693a33e4a7e8131fd": {
          "model_module": "@jupyter-widgets/controls",
          "model_module_version": "1.5.0",
          "model_name": "ProgressStyleModel",
          "state": {
            "_model_module": "@jupyter-widgets/controls",
            "_model_module_version": "1.5.0",
            "_model_name": "ProgressStyleModel",
            "_view_count": null,
            "_view_module": "@jupyter-widgets/base",
            "_view_module_version": "1.2.0",
            "_view_name": "StyleView",
            "bar_color": null,
            "description_width": ""
          }
        },
        "179a442b729e40369bbc75185f58df9a": {
          "model_module": "@jupyter-widgets/base",
          "model_module_version": "1.2.0",
          "model_name": "LayoutModel",
          "state": {
            "_model_module": "@jupyter-widgets/base",
            "_model_module_version": "1.2.0",
            "_model_name": "LayoutModel",
            "_view_count": null,
            "_view_module": "@jupyter-widgets/base",
            "_view_module_version": "1.2.0",
            "_view_name": "LayoutView",
            "align_content": null,
            "align_items": null,
            "align_self": null,
            "border": null,
            "bottom": null,
            "display": null,
            "flex": null,
            "flex_flow": null,
            "grid_area": null,
            "grid_auto_columns": null,
            "grid_auto_flow": null,
            "grid_auto_rows": null,
            "grid_column": null,
            "grid_gap": null,
            "grid_row": null,
            "grid_template_areas": null,
            "grid_template_columns": null,
            "grid_template_rows": null,
            "height": null,
            "justify_content": null,
            "justify_items": null,
            "left": null,
            "margin": null,
            "max_height": null,
            "max_width": null,
            "min_height": null,
            "min_width": null,
            "object_fit": null,
            "object_position": null,
            "order": null,
            "overflow": null,
            "overflow_x": null,
            "overflow_y": null,
            "padding": null,
            "right": null,
            "top": null,
            "visibility": null,
            "width": null
          }
        },
        "266cbb35d615456da8afc15271a0c00f": {
          "model_module": "@jupyter-widgets/controls",
          "model_module_version": "1.5.0",
          "model_name": "HTMLModel",
          "state": {
            "_dom_classes": [],
            "_model_module": "@jupyter-widgets/controls",
            "_model_module_version": "1.5.0",
            "_model_name": "HTMLModel",
            "_view_count": null,
            "_view_module": "@jupyter-widgets/controls",
            "_view_module_version": "1.5.0",
            "_view_name": "HTMLView",
            "description": "",
            "description_tooltip": null,
            "layout": "IPY_MODEL_aca0b0e7480b4779b07e1d3ff6f36628",
            "placeholder": "​",
            "style": "IPY_MODEL_3265a4a705e244af8549ae83ba2a4a45",
            "value": " 570/570 [00:00&lt;00:00, 58.2kB/s]"
          }
        },
        "276adcf8c8c74913a92855ea1e9bc4f7": {
          "model_module": "@jupyter-widgets/controls",
          "model_module_version": "1.5.0",
          "model_name": "HBoxModel",
          "state": {
            "_dom_classes": [],
            "_model_module": "@jupyter-widgets/controls",
            "_model_module_version": "1.5.0",
            "_model_name": "HBoxModel",
            "_view_count": null,
            "_view_module": "@jupyter-widgets/controls",
            "_view_module_version": "1.5.0",
            "_view_name": "HBoxView",
            "box_style": "",
            "children": [
              "IPY_MODEL_0722f9caeca24e31ad479512df6afc42",
              "IPY_MODEL_7e1bea57519c45bdab9f7e82abfe5d42",
              "IPY_MODEL_f9b15a35c25d4eaebccdb8313a37b545"
            ],
            "layout": "IPY_MODEL_cb1f4834617249408cbbf4fc999ea443"
          }
        },
        "28153e5b6aa44ae79fc6024b5aaa4007": {
          "model_module": "@jupyter-widgets/base",
          "model_module_version": "1.2.0",
          "model_name": "LayoutModel",
          "state": {
            "_model_module": "@jupyter-widgets/base",
            "_model_module_version": "1.2.0",
            "_model_name": "LayoutModel",
            "_view_count": null,
            "_view_module": "@jupyter-widgets/base",
            "_view_module_version": "1.2.0",
            "_view_name": "LayoutView",
            "align_content": null,
            "align_items": null,
            "align_self": null,
            "border": null,
            "bottom": null,
            "display": null,
            "flex": null,
            "flex_flow": null,
            "grid_area": null,
            "grid_auto_columns": null,
            "grid_auto_flow": null,
            "grid_auto_rows": null,
            "grid_column": null,
            "grid_gap": null,
            "grid_row": null,
            "grid_template_areas": null,
            "grid_template_columns": null,
            "grid_template_rows": null,
            "height": null,
            "justify_content": null,
            "justify_items": null,
            "left": null,
            "margin": null,
            "max_height": null,
            "max_width": null,
            "min_height": null,
            "min_width": null,
            "object_fit": null,
            "object_position": null,
            "order": null,
            "overflow": null,
            "overflow_x": null,
            "overflow_y": null,
            "padding": null,
            "right": null,
            "top": null,
            "visibility": null,
            "width": null
          }
        },
        "2b3e1eaa60d04a128cc9e9e8d596fc31": {
          "model_module": "@jupyter-widgets/controls",
          "model_module_version": "1.5.0",
          "model_name": "ProgressStyleModel",
          "state": {
            "_model_module": "@jupyter-widgets/controls",
            "_model_module_version": "1.5.0",
            "_model_name": "ProgressStyleModel",
            "_view_count": null,
            "_view_module": "@jupyter-widgets/base",
            "_view_module_version": "1.2.0",
            "_view_name": "StyleView",
            "bar_color": null,
            "description_width": ""
          }
        },
        "3265a4a705e244af8549ae83ba2a4a45": {
          "model_module": "@jupyter-widgets/controls",
          "model_module_version": "1.5.0",
          "model_name": "DescriptionStyleModel",
          "state": {
            "_model_module": "@jupyter-widgets/controls",
            "_model_module_version": "1.5.0",
            "_model_name": "DescriptionStyleModel",
            "_view_count": null,
            "_view_module": "@jupyter-widgets/base",
            "_view_module_version": "1.2.0",
            "_view_name": "StyleView",
            "description_width": ""
          }
        },
        "34481a3e8f3b49f599db055e32a4f072": {
          "model_module": "@jupyter-widgets/controls",
          "model_module_version": "1.5.0",
          "model_name": "DescriptionStyleModel",
          "state": {
            "_model_module": "@jupyter-widgets/controls",
            "_model_module_version": "1.5.0",
            "_model_name": "DescriptionStyleModel",
            "_view_count": null,
            "_view_module": "@jupyter-widgets/base",
            "_view_module_version": "1.2.0",
            "_view_name": "StyleView",
            "description_width": ""
          }
        },
        "35bb4bfa07fc43c186feb506e48f06ca": {
          "model_module": "@jupyter-widgets/controls",
          "model_module_version": "1.5.0",
          "model_name": "DescriptionStyleModel",
          "state": {
            "_model_module": "@jupyter-widgets/controls",
            "_model_module_version": "1.5.0",
            "_model_name": "DescriptionStyleModel",
            "_view_count": null,
            "_view_module": "@jupyter-widgets/base",
            "_view_module_version": "1.2.0",
            "_view_name": "StyleView",
            "description_width": ""
          }
        },
        "39e4015f957742d9a031f4737e1b5527": {
          "model_module": "@jupyter-widgets/base",
          "model_module_version": "1.2.0",
          "model_name": "LayoutModel",
          "state": {
            "_model_module": "@jupyter-widgets/base",
            "_model_module_version": "1.2.0",
            "_model_name": "LayoutModel",
            "_view_count": null,
            "_view_module": "@jupyter-widgets/base",
            "_view_module_version": "1.2.0",
            "_view_name": "LayoutView",
            "align_content": null,
            "align_items": null,
            "align_self": null,
            "border": null,
            "bottom": null,
            "display": null,
            "flex": null,
            "flex_flow": null,
            "grid_area": null,
            "grid_auto_columns": null,
            "grid_auto_flow": null,
            "grid_auto_rows": null,
            "grid_column": null,
            "grid_gap": null,
            "grid_row": null,
            "grid_template_areas": null,
            "grid_template_columns": null,
            "grid_template_rows": null,
            "height": null,
            "justify_content": null,
            "justify_items": null,
            "left": null,
            "margin": null,
            "max_height": null,
            "max_width": null,
            "min_height": null,
            "min_width": null,
            "object_fit": null,
            "object_position": null,
            "order": null,
            "overflow": null,
            "overflow_x": null,
            "overflow_y": null,
            "padding": null,
            "right": null,
            "top": null,
            "visibility": null,
            "width": null
          }
        },
        "3a5ad1d01242454ba92dbe70d498b89d": {
          "model_module": "@jupyter-widgets/controls",
          "model_module_version": "1.5.0",
          "model_name": "ProgressStyleModel",
          "state": {
            "_model_module": "@jupyter-widgets/controls",
            "_model_module_version": "1.5.0",
            "_model_name": "ProgressStyleModel",
            "_view_count": null,
            "_view_module": "@jupyter-widgets/base",
            "_view_module_version": "1.2.0",
            "_view_name": "StyleView",
            "bar_color": null,
            "description_width": ""
          }
        },
        "3d39bb5c8e4c441694fe1c134523004c": {
          "model_module": "@jupyter-widgets/controls",
          "model_module_version": "1.5.0",
          "model_name": "HBoxModel",
          "state": {
            "_dom_classes": [],
            "_model_module": "@jupyter-widgets/controls",
            "_model_module_version": "1.5.0",
            "_model_name": "HBoxModel",
            "_view_count": null,
            "_view_module": "@jupyter-widgets/controls",
            "_view_module_version": "1.5.0",
            "_view_name": "HBoxView",
            "box_style": "",
            "children": [
              "IPY_MODEL_de64e61db6fd47d988b66323b47f2900",
              "IPY_MODEL_d7643f63c07745f49810709a9225cb8b",
              "IPY_MODEL_c6a448e9c877490293ae8e6fad6880df"
            ],
            "layout": "IPY_MODEL_e2635778104c4101b98c7c7cedc9e90a"
          }
        },
        "4116a5f98dd3467e90ca4da61585c111": {
          "model_module": "@jupyter-widgets/controls",
          "model_module_version": "1.5.0",
          "model_name": "HBoxModel",
          "state": {
            "_dom_classes": [],
            "_model_module": "@jupyter-widgets/controls",
            "_model_module_version": "1.5.0",
            "_model_name": "HBoxModel",
            "_view_count": null,
            "_view_module": "@jupyter-widgets/controls",
            "_view_module_version": "1.5.0",
            "_view_name": "HBoxView",
            "box_style": "",
            "children": [
              "IPY_MODEL_9731cedb95754987874c8c97b75695b0",
              "IPY_MODEL_abb647de7dff4f919aa26c253fcd010a",
              "IPY_MODEL_266cbb35d615456da8afc15271a0c00f"
            ],
            "layout": "IPY_MODEL_db52bb11acff47f6b7e819cec764969b"
          }
        },
        "4c4dc2f0f88d4e439c86ab4751680eab": {
          "model_module": "@jupyter-widgets/base",
          "model_module_version": "1.2.0",
          "model_name": "LayoutModel",
          "state": {
            "_model_module": "@jupyter-widgets/base",
            "_model_module_version": "1.2.0",
            "_model_name": "LayoutModel",
            "_view_count": null,
            "_view_module": "@jupyter-widgets/base",
            "_view_module_version": "1.2.0",
            "_view_name": "LayoutView",
            "align_content": null,
            "align_items": null,
            "align_self": null,
            "border": null,
            "bottom": null,
            "display": null,
            "flex": null,
            "flex_flow": null,
            "grid_area": null,
            "grid_auto_columns": null,
            "grid_auto_flow": null,
            "grid_auto_rows": null,
            "grid_column": null,
            "grid_gap": null,
            "grid_row": null,
            "grid_template_areas": null,
            "grid_template_columns": null,
            "grid_template_rows": null,
            "height": null,
            "justify_content": null,
            "justify_items": null,
            "left": null,
            "margin": null,
            "max_height": null,
            "max_width": null,
            "min_height": null,
            "min_width": null,
            "object_fit": null,
            "object_position": null,
            "order": null,
            "overflow": null,
            "overflow_x": null,
            "overflow_y": null,
            "padding": null,
            "right": null,
            "top": null,
            "visibility": null,
            "width": null
          }
        },
        "580efa21652a4b488b0811acc677db45": {
          "model_module": "@jupyter-widgets/controls",
          "model_module_version": "1.5.0",
          "model_name": "DescriptionStyleModel",
          "state": {
            "_model_module": "@jupyter-widgets/controls",
            "_model_module_version": "1.5.0",
            "_model_name": "DescriptionStyleModel",
            "_view_count": null,
            "_view_module": "@jupyter-widgets/base",
            "_view_module_version": "1.2.0",
            "_view_name": "StyleView",
            "description_width": ""
          }
        },
        "58b1a94458d54476ab412aaf4261a5ec": {
          "model_module": "@jupyter-widgets/base",
          "model_module_version": "1.2.0",
          "model_name": "LayoutModel",
          "state": {
            "_model_module": "@jupyter-widgets/base",
            "_model_module_version": "1.2.0",
            "_model_name": "LayoutModel",
            "_view_count": null,
            "_view_module": "@jupyter-widgets/base",
            "_view_module_version": "1.2.0",
            "_view_name": "LayoutView",
            "align_content": null,
            "align_items": null,
            "align_self": null,
            "border": null,
            "bottom": null,
            "display": null,
            "flex": null,
            "flex_flow": null,
            "grid_area": null,
            "grid_auto_columns": null,
            "grid_auto_flow": null,
            "grid_auto_rows": null,
            "grid_column": null,
            "grid_gap": null,
            "grid_row": null,
            "grid_template_areas": null,
            "grid_template_columns": null,
            "grid_template_rows": null,
            "height": null,
            "justify_content": null,
            "justify_items": null,
            "left": null,
            "margin": null,
            "max_height": null,
            "max_width": null,
            "min_height": null,
            "min_width": null,
            "object_fit": null,
            "object_position": null,
            "order": null,
            "overflow": null,
            "overflow_x": null,
            "overflow_y": null,
            "padding": null,
            "right": null,
            "top": null,
            "visibility": null,
            "width": null
          }
        },
        "60dca35f2c8f4c14bc5648b7727e1d16": {
          "model_module": "@jupyter-widgets/controls",
          "model_module_version": "1.5.0",
          "model_name": "HTMLModel",
          "state": {
            "_dom_classes": [],
            "_model_module": "@jupyter-widgets/controls",
            "_model_module_version": "1.5.0",
            "_model_name": "HTMLModel",
            "_view_count": null,
            "_view_module": "@jupyter-widgets/controls",
            "_view_module_version": "1.5.0",
            "_view_name": "HTMLView",
            "description": "",
            "description_tooltip": null,
            "layout": "IPY_MODEL_7785808b9d6c478cbdd88d72a62d3812",
            "placeholder": "​",
            "style": "IPY_MODEL_34481a3e8f3b49f599db055e32a4f072",
            "value": "vocab.txt: 100%"
          }
        },
        "6dfc6420159347eb8b370ecf03e58333": {
          "model_module": "@jupyter-widgets/controls",
          "model_module_version": "1.5.0",
          "model_name": "DescriptionStyleModel",
          "state": {
            "_model_module": "@jupyter-widgets/controls",
            "_model_module_version": "1.5.0",
            "_model_name": "DescriptionStyleModel",
            "_view_count": null,
            "_view_module": "@jupyter-widgets/base",
            "_view_module_version": "1.2.0",
            "_view_name": "StyleView",
            "description_width": ""
          }
        },
        "717071fb18ea466a81af9887eb9bbd80": {
          "model_module": "@jupyter-widgets/controls",
          "model_module_version": "1.5.0",
          "model_name": "DescriptionStyleModel",
          "state": {
            "_model_module": "@jupyter-widgets/controls",
            "_model_module_version": "1.5.0",
            "_model_name": "DescriptionStyleModel",
            "_view_count": null,
            "_view_module": "@jupyter-widgets/base",
            "_view_module_version": "1.2.0",
            "_view_name": "StyleView",
            "description_width": ""
          }
        },
        "777756331aa7441891ae7b1198dc9f76": {
          "model_module": "@jupyter-widgets/controls",
          "model_module_version": "1.5.0",
          "model_name": "HBoxModel",
          "state": {
            "_dom_classes": [],
            "_model_module": "@jupyter-widgets/controls",
            "_model_module_version": "1.5.0",
            "_model_name": "HBoxModel",
            "_view_count": null,
            "_view_module": "@jupyter-widgets/controls",
            "_view_module_version": "1.5.0",
            "_view_name": "HBoxView",
            "box_style": "",
            "children": [
              "IPY_MODEL_97079b56f761457687432cdd520bac35",
              "IPY_MODEL_bd073ed979284d39b1430d896943c237",
              "IPY_MODEL_d39d3e59be634724b8d06da35b71f122"
            ],
            "layout": "IPY_MODEL_58b1a94458d54476ab412aaf4261a5ec"
          }
        },
        "7785808b9d6c478cbdd88d72a62d3812": {
          "model_module": "@jupyter-widgets/base",
          "model_module_version": "1.2.0",
          "model_name": "LayoutModel",
          "state": {
            "_model_module": "@jupyter-widgets/base",
            "_model_module_version": "1.2.0",
            "_model_name": "LayoutModel",
            "_view_count": null,
            "_view_module": "@jupyter-widgets/base",
            "_view_module_version": "1.2.0",
            "_view_name": "LayoutView",
            "align_content": null,
            "align_items": null,
            "align_self": null,
            "border": null,
            "bottom": null,
            "display": null,
            "flex": null,
            "flex_flow": null,
            "grid_area": null,
            "grid_auto_columns": null,
            "grid_auto_flow": null,
            "grid_auto_rows": null,
            "grid_column": null,
            "grid_gap": null,
            "grid_row": null,
            "grid_template_areas": null,
            "grid_template_columns": null,
            "grid_template_rows": null,
            "height": null,
            "justify_content": null,
            "justify_items": null,
            "left": null,
            "margin": null,
            "max_height": null,
            "max_width": null,
            "min_height": null,
            "min_width": null,
            "object_fit": null,
            "object_position": null,
            "order": null,
            "overflow": null,
            "overflow_x": null,
            "overflow_y": null,
            "padding": null,
            "right": null,
            "top": null,
            "visibility": null,
            "width": null
          }
        },
        "7e1bea57519c45bdab9f7e82abfe5d42": {
          "model_module": "@jupyter-widgets/controls",
          "model_module_version": "1.5.0",
          "model_name": "FloatProgressModel",
          "state": {
            "_dom_classes": [],
            "_model_module": "@jupyter-widgets/controls",
            "_model_module_version": "1.5.0",
            "_model_name": "FloatProgressModel",
            "_view_count": null,
            "_view_module": "@jupyter-widgets/controls",
            "_view_module_version": "1.5.0",
            "_view_name": "ProgressView",
            "bar_style": "success",
            "description": "",
            "description_tooltip": null,
            "layout": "IPY_MODEL_39e4015f957742d9a031f4737e1b5527",
            "max": 466062,
            "min": 0,
            "orientation": "horizontal",
            "style": "IPY_MODEL_3a5ad1d01242454ba92dbe70d498b89d",
            "value": 466062
          }
        },
        "8dab6928a0eb4a7eb1381d2848ae37ee": {
          "model_module": "@jupyter-widgets/base",
          "model_module_version": "1.2.0",
          "model_name": "LayoutModel",
          "state": {
            "_model_module": "@jupyter-widgets/base",
            "_model_module_version": "1.2.0",
            "_model_name": "LayoutModel",
            "_view_count": null,
            "_view_module": "@jupyter-widgets/base",
            "_view_module_version": "1.2.0",
            "_view_name": "LayoutView",
            "align_content": null,
            "align_items": null,
            "align_self": null,
            "border": null,
            "bottom": null,
            "display": null,
            "flex": null,
            "flex_flow": null,
            "grid_area": null,
            "grid_auto_columns": null,
            "grid_auto_flow": null,
            "grid_auto_rows": null,
            "grid_column": null,
            "grid_gap": null,
            "grid_row": null,
            "grid_template_areas": null,
            "grid_template_columns": null,
            "grid_template_rows": null,
            "height": null,
            "justify_content": null,
            "justify_items": null,
            "left": null,
            "margin": null,
            "max_height": null,
            "max_width": null,
            "min_height": null,
            "min_width": null,
            "object_fit": null,
            "object_position": null,
            "order": null,
            "overflow": null,
            "overflow_x": null,
            "overflow_y": null,
            "padding": null,
            "right": null,
            "top": null,
            "visibility": null,
            "width": null
          }
        },
        "8ef8f0cee72541b49cf248a6278e2d77": {
          "model_module": "@jupyter-widgets/base",
          "model_module_version": "1.2.0",
          "model_name": "LayoutModel",
          "state": {
            "_model_module": "@jupyter-widgets/base",
            "_model_module_version": "1.2.0",
            "_model_name": "LayoutModel",
            "_view_count": null,
            "_view_module": "@jupyter-widgets/base",
            "_view_module_version": "1.2.0",
            "_view_name": "LayoutView",
            "align_content": null,
            "align_items": null,
            "align_self": null,
            "border": null,
            "bottom": null,
            "display": null,
            "flex": null,
            "flex_flow": null,
            "grid_area": null,
            "grid_auto_columns": null,
            "grid_auto_flow": null,
            "grid_auto_rows": null,
            "grid_column": null,
            "grid_gap": null,
            "grid_row": null,
            "grid_template_areas": null,
            "grid_template_columns": null,
            "grid_template_rows": null,
            "height": null,
            "justify_content": null,
            "justify_items": null,
            "left": null,
            "margin": null,
            "max_height": null,
            "max_width": null,
            "min_height": null,
            "min_width": null,
            "object_fit": null,
            "object_position": null,
            "order": null,
            "overflow": null,
            "overflow_x": null,
            "overflow_y": null,
            "padding": null,
            "right": null,
            "top": null,
            "visibility": null,
            "width": null
          }
        },
        "8fd190af6bc5495abf25286d85a749b0": {
          "model_module": "@jupyter-widgets/base",
          "model_module_version": "1.2.0",
          "model_name": "LayoutModel",
          "state": {
            "_model_module": "@jupyter-widgets/base",
            "_model_module_version": "1.2.0",
            "_model_name": "LayoutModel",
            "_view_count": null,
            "_view_module": "@jupyter-widgets/base",
            "_view_module_version": "1.2.0",
            "_view_name": "LayoutView",
            "align_content": null,
            "align_items": null,
            "align_self": null,
            "border": null,
            "bottom": null,
            "display": null,
            "flex": null,
            "flex_flow": null,
            "grid_area": null,
            "grid_auto_columns": null,
            "grid_auto_flow": null,
            "grid_auto_rows": null,
            "grid_column": null,
            "grid_gap": null,
            "grid_row": null,
            "grid_template_areas": null,
            "grid_template_columns": null,
            "grid_template_rows": null,
            "height": null,
            "justify_content": null,
            "justify_items": null,
            "left": null,
            "margin": null,
            "max_height": null,
            "max_width": null,
            "min_height": null,
            "min_width": null,
            "object_fit": null,
            "object_position": null,
            "order": null,
            "overflow": null,
            "overflow_x": null,
            "overflow_y": null,
            "padding": null,
            "right": null,
            "top": null,
            "visibility": null,
            "width": null
          }
        },
        "931d3997685148019d7a3dda6d9fd731": {
          "model_module": "@jupyter-widgets/controls",
          "model_module_version": "1.5.0",
          "model_name": "DescriptionStyleModel",
          "state": {
            "_model_module": "@jupyter-widgets/controls",
            "_model_module_version": "1.5.0",
            "_model_name": "DescriptionStyleModel",
            "_view_count": null,
            "_view_module": "@jupyter-widgets/base",
            "_view_module_version": "1.2.0",
            "_view_name": "StyleView",
            "description_width": ""
          }
        },
        "967546f7a56b4ea18fd9728cc8180670": {
          "model_module": "@jupyter-widgets/base",
          "model_module_version": "1.2.0",
          "model_name": "LayoutModel",
          "state": {
            "_model_module": "@jupyter-widgets/base",
            "_model_module_version": "1.2.0",
            "_model_name": "LayoutModel",
            "_view_count": null,
            "_view_module": "@jupyter-widgets/base",
            "_view_module_version": "1.2.0",
            "_view_name": "LayoutView",
            "align_content": null,
            "align_items": null,
            "align_self": null,
            "border": null,
            "bottom": null,
            "display": null,
            "flex": null,
            "flex_flow": null,
            "grid_area": null,
            "grid_auto_columns": null,
            "grid_auto_flow": null,
            "grid_auto_rows": null,
            "grid_column": null,
            "grid_gap": null,
            "grid_row": null,
            "grid_template_areas": null,
            "grid_template_columns": null,
            "grid_template_rows": null,
            "height": null,
            "justify_content": null,
            "justify_items": null,
            "left": null,
            "margin": null,
            "max_height": null,
            "max_width": null,
            "min_height": null,
            "min_width": null,
            "object_fit": null,
            "object_position": null,
            "order": null,
            "overflow": null,
            "overflow_x": null,
            "overflow_y": null,
            "padding": null,
            "right": null,
            "top": null,
            "visibility": null,
            "width": null
          }
        },
        "97079b56f761457687432cdd520bac35": {
          "model_module": "@jupyter-widgets/controls",
          "model_module_version": "1.5.0",
          "model_name": "HTMLModel",
          "state": {
            "_dom_classes": [],
            "_model_module": "@jupyter-widgets/controls",
            "_model_module_version": "1.5.0",
            "_model_name": "HTMLModel",
            "_view_count": null,
            "_view_module": "@jupyter-widgets/controls",
            "_view_module_version": "1.5.0",
            "_view_name": "HTMLView",
            "description": "",
            "description_tooltip": null,
            "layout": "IPY_MODEL_8fd190af6bc5495abf25286d85a749b0",
            "placeholder": "​",
            "style": "IPY_MODEL_35bb4bfa07fc43c186feb506e48f06ca",
            "value": "model.safetensors: 100%"
          }
        },
        "9731cedb95754987874c8c97b75695b0": {
          "model_module": "@jupyter-widgets/controls",
          "model_module_version": "1.5.0",
          "model_name": "HTMLModel",
          "state": {
            "_dom_classes": [],
            "_model_module": "@jupyter-widgets/controls",
            "_model_module_version": "1.5.0",
            "_model_name": "HTMLModel",
            "_view_count": null,
            "_view_module": "@jupyter-widgets/controls",
            "_view_module_version": "1.5.0",
            "_view_name": "HTMLView",
            "description": "",
            "description_tooltip": null,
            "layout": "IPY_MODEL_0d4be83c3bb547688a63864948b6ea92",
            "placeholder": "​",
            "style": "IPY_MODEL_931d3997685148019d7a3dda6d9fd731",
            "value": "config.json: 100%"
          }
        },
        "975af512cfdb4e4196b06194311b4f86": {
          "model_module": "@jupyter-widgets/controls",
          "model_module_version": "1.5.0",
          "model_name": "FloatProgressModel",
          "state": {
            "_dom_classes": [],
            "_model_module": "@jupyter-widgets/controls",
            "_model_module_version": "1.5.0",
            "_model_name": "FloatProgressModel",
            "_view_count": null,
            "_view_module": "@jupyter-widgets/controls",
            "_view_module_version": "1.5.0",
            "_view_name": "ProgressView",
            "bar_style": "success",
            "description": "",
            "description_tooltip": null,
            "layout": "IPY_MODEL_9eb3f889029d4d76a998f39ec67374c0",
            "max": 231508,
            "min": 0,
            "orientation": "horizontal",
            "style": "IPY_MODEL_adf70ee0bdca42aabb3c0b7d59fbf8c7",
            "value": 231508
          }
        },
        "9eb3f889029d4d76a998f39ec67374c0": {
          "model_module": "@jupyter-widgets/base",
          "model_module_version": "1.2.0",
          "model_name": "LayoutModel",
          "state": {
            "_model_module": "@jupyter-widgets/base",
            "_model_module_version": "1.2.0",
            "_model_name": "LayoutModel",
            "_view_count": null,
            "_view_module": "@jupyter-widgets/base",
            "_view_module_version": "1.2.0",
            "_view_name": "LayoutView",
            "align_content": null,
            "align_items": null,
            "align_self": null,
            "border": null,
            "bottom": null,
            "display": null,
            "flex": null,
            "flex_flow": null,
            "grid_area": null,
            "grid_auto_columns": null,
            "grid_auto_flow": null,
            "grid_auto_rows": null,
            "grid_column": null,
            "grid_gap": null,
            "grid_row": null,
            "grid_template_areas": null,
            "grid_template_columns": null,
            "grid_template_rows": null,
            "height": null,
            "justify_content": null,
            "justify_items": null,
            "left": null,
            "margin": null,
            "max_height": null,
            "max_width": null,
            "min_height": null,
            "min_width": null,
            "object_fit": null,
            "object_position": null,
            "order": null,
            "overflow": null,
            "overflow_x": null,
            "overflow_y": null,
            "padding": null,
            "right": null,
            "top": null,
            "visibility": null,
            "width": null
          }
        },
        "abb647de7dff4f919aa26c253fcd010a": {
          "model_module": "@jupyter-widgets/controls",
          "model_module_version": "1.5.0",
          "model_name": "FloatProgressModel",
          "state": {
            "_dom_classes": [],
            "_model_module": "@jupyter-widgets/controls",
            "_model_module_version": "1.5.0",
            "_model_name": "FloatProgressModel",
            "_view_count": null,
            "_view_module": "@jupyter-widgets/controls",
            "_view_module_version": "1.5.0",
            "_view_name": "ProgressView",
            "bar_style": "success",
            "description": "",
            "description_tooltip": null,
            "layout": "IPY_MODEL_8dab6928a0eb4a7eb1381d2848ae37ee",
            "max": 570,
            "min": 0,
            "orientation": "horizontal",
            "style": "IPY_MODEL_2b3e1eaa60d04a128cc9e9e8d596fc31",
            "value": 570
          }
        },
        "aca0b0e7480b4779b07e1d3ff6f36628": {
          "model_module": "@jupyter-widgets/base",
          "model_module_version": "1.2.0",
          "model_name": "LayoutModel",
          "state": {
            "_model_module": "@jupyter-widgets/base",
            "_model_module_version": "1.2.0",
            "_model_name": "LayoutModel",
            "_view_count": null,
            "_view_module": "@jupyter-widgets/base",
            "_view_module_version": "1.2.0",
            "_view_name": "LayoutView",
            "align_content": null,
            "align_items": null,
            "align_self": null,
            "border": null,
            "bottom": null,
            "display": null,
            "flex": null,
            "flex_flow": null,
            "grid_area": null,
            "grid_auto_columns": null,
            "grid_auto_flow": null,
            "grid_auto_rows": null,
            "grid_column": null,
            "grid_gap": null,
            "grid_row": null,
            "grid_template_areas": null,
            "grid_template_columns": null,
            "grid_template_rows": null,
            "height": null,
            "justify_content": null,
            "justify_items": null,
            "left": null,
            "margin": null,
            "max_height": null,
            "max_width": null,
            "min_height": null,
            "min_width": null,
            "object_fit": null,
            "object_position": null,
            "order": null,
            "overflow": null,
            "overflow_x": null,
            "overflow_y": null,
            "padding": null,
            "right": null,
            "top": null,
            "visibility": null,
            "width": null
          }
        },
        "adf70ee0bdca42aabb3c0b7d59fbf8c7": {
          "model_module": "@jupyter-widgets/controls",
          "model_module_version": "1.5.0",
          "model_name": "ProgressStyleModel",
          "state": {
            "_model_module": "@jupyter-widgets/controls",
            "_model_module_version": "1.5.0",
            "_model_name": "ProgressStyleModel",
            "_view_count": null,
            "_view_module": "@jupyter-widgets/base",
            "_view_module_version": "1.2.0",
            "_view_name": "StyleView",
            "bar_color": null,
            "description_width": ""
          }
        },
        "bd073ed979284d39b1430d896943c237": {
          "model_module": "@jupyter-widgets/controls",
          "model_module_version": "1.5.0",
          "model_name": "FloatProgressModel",
          "state": {
            "_dom_classes": [],
            "_model_module": "@jupyter-widgets/controls",
            "_model_module_version": "1.5.0",
            "_model_name": "FloatProgressModel",
            "_view_count": null,
            "_view_module": "@jupyter-widgets/controls",
            "_view_module_version": "1.5.0",
            "_view_name": "ProgressView",
            "bar_style": "success",
            "description": "",
            "description_tooltip": null,
            "layout": "IPY_MODEL_c7355eaf29ff44af913631a6c6afe64e",
            "max": 440449768,
            "min": 0,
            "orientation": "horizontal",
            "style": "IPY_MODEL_ccd88c0a68544599947c5a8ec4be5bba",
            "value": 440449768
          }
        },
        "c6a448e9c877490293ae8e6fad6880df": {
          "model_module": "@jupyter-widgets/controls",
          "model_module_version": "1.5.0",
          "model_name": "HTMLModel",
          "state": {
            "_dom_classes": [],
            "_model_module": "@jupyter-widgets/controls",
            "_model_module_version": "1.5.0",
            "_model_name": "HTMLModel",
            "_view_count": null,
            "_view_module": "@jupyter-widgets/controls",
            "_view_module_version": "1.5.0",
            "_view_name": "HTMLView",
            "description": "",
            "description_tooltip": null,
            "layout": "IPY_MODEL_28153e5b6aa44ae79fc6024b5aaa4007",
            "placeholder": "​",
            "style": "IPY_MODEL_d353a790a7b447e88641de354c5f9345",
            "value": " 48.0/48.0 [00:00&lt;00:00, 4.89kB/s]"
          }
        },
        "c7355eaf29ff44af913631a6c6afe64e": {
          "model_module": "@jupyter-widgets/base",
          "model_module_version": "1.2.0",
          "model_name": "LayoutModel",
          "state": {
            "_model_module": "@jupyter-widgets/base",
            "_model_module_version": "1.2.0",
            "_model_name": "LayoutModel",
            "_view_count": null,
            "_view_module": "@jupyter-widgets/base",
            "_view_module_version": "1.2.0",
            "_view_name": "LayoutView",
            "align_content": null,
            "align_items": null,
            "align_self": null,
            "border": null,
            "bottom": null,
            "display": null,
            "flex": null,
            "flex_flow": null,
            "grid_area": null,
            "grid_auto_columns": null,
            "grid_auto_flow": null,
            "grid_auto_rows": null,
            "grid_column": null,
            "grid_gap": null,
            "grid_row": null,
            "grid_template_areas": null,
            "grid_template_columns": null,
            "grid_template_rows": null,
            "height": null,
            "justify_content": null,
            "justify_items": null,
            "left": null,
            "margin": null,
            "max_height": null,
            "max_width": null,
            "min_height": null,
            "min_width": null,
            "object_fit": null,
            "object_position": null,
            "order": null,
            "overflow": null,
            "overflow_x": null,
            "overflow_y": null,
            "padding": null,
            "right": null,
            "top": null,
            "visibility": null,
            "width": null
          }
        },
        "cb1f4834617249408cbbf4fc999ea443": {
          "model_module": "@jupyter-widgets/base",
          "model_module_version": "1.2.0",
          "model_name": "LayoutModel",
          "state": {
            "_model_module": "@jupyter-widgets/base",
            "_model_module_version": "1.2.0",
            "_model_name": "LayoutModel",
            "_view_count": null,
            "_view_module": "@jupyter-widgets/base",
            "_view_module_version": "1.2.0",
            "_view_name": "LayoutView",
            "align_content": null,
            "align_items": null,
            "align_self": null,
            "border": null,
            "bottom": null,
            "display": null,
            "flex": null,
            "flex_flow": null,
            "grid_area": null,
            "grid_auto_columns": null,
            "grid_auto_flow": null,
            "grid_auto_rows": null,
            "grid_column": null,
            "grid_gap": null,
            "grid_row": null,
            "grid_template_areas": null,
            "grid_template_columns": null,
            "grid_template_rows": null,
            "height": null,
            "justify_content": null,
            "justify_items": null,
            "left": null,
            "margin": null,
            "max_height": null,
            "max_width": null,
            "min_height": null,
            "min_width": null,
            "object_fit": null,
            "object_position": null,
            "order": null,
            "overflow": null,
            "overflow_x": null,
            "overflow_y": null,
            "padding": null,
            "right": null,
            "top": null,
            "visibility": null,
            "width": null
          }
        },
        "ccd88c0a68544599947c5a8ec4be5bba": {
          "model_module": "@jupyter-widgets/controls",
          "model_module_version": "1.5.0",
          "model_name": "ProgressStyleModel",
          "state": {
            "_model_module": "@jupyter-widgets/controls",
            "_model_module_version": "1.5.0",
            "_model_name": "ProgressStyleModel",
            "_view_count": null,
            "_view_module": "@jupyter-widgets/base",
            "_view_module_version": "1.2.0",
            "_view_name": "StyleView",
            "bar_color": null,
            "description_width": ""
          }
        },
        "cce03043798042c8b7f701e5c998475b": {
          "model_module": "@jupyter-widgets/controls",
          "model_module_version": "1.5.0",
          "model_name": "HTMLModel",
          "state": {
            "_dom_classes": [],
            "_model_module": "@jupyter-widgets/controls",
            "_model_module_version": "1.5.0",
            "_model_name": "HTMLModel",
            "_view_count": null,
            "_view_module": "@jupyter-widgets/controls",
            "_view_module_version": "1.5.0",
            "_view_name": "HTMLView",
            "description": "",
            "description_tooltip": null,
            "layout": "IPY_MODEL_061b924326854baa97e702e109d29509",
            "placeholder": "​",
            "style": "IPY_MODEL_717071fb18ea466a81af9887eb9bbd80",
            "value": " 232k/232k [00:00&lt;00:00, 1.04MB/s]"
          }
        },
        "d353a790a7b447e88641de354c5f9345": {
          "model_module": "@jupyter-widgets/controls",
          "model_module_version": "1.5.0",
          "model_name": "DescriptionStyleModel",
          "state": {
            "_model_module": "@jupyter-widgets/controls",
            "_model_module_version": "1.5.0",
            "_model_name": "DescriptionStyleModel",
            "_view_count": null,
            "_view_module": "@jupyter-widgets/base",
            "_view_module_version": "1.2.0",
            "_view_name": "StyleView",
            "description_width": ""
          }
        },
        "d39d3e59be634724b8d06da35b71f122": {
          "model_module": "@jupyter-widgets/controls",
          "model_module_version": "1.5.0",
          "model_name": "HTMLModel",
          "state": {
            "_dom_classes": [],
            "_model_module": "@jupyter-widgets/controls",
            "_model_module_version": "1.5.0",
            "_model_name": "HTMLModel",
            "_view_count": null,
            "_view_module": "@jupyter-widgets/controls",
            "_view_module_version": "1.5.0",
            "_view_name": "HTMLView",
            "description": "",
            "description_tooltip": null,
            "layout": "IPY_MODEL_e39780fd87ab4c9998ffcd8042e3a89c",
            "placeholder": "​",
            "style": "IPY_MODEL_6dfc6420159347eb8b370ecf03e58333",
            "value": " 440M/440M [00:06&lt;00:00, 52.9MB/s]"
          }
        },
        "d7643f63c07745f49810709a9225cb8b": {
          "model_module": "@jupyter-widgets/controls",
          "model_module_version": "1.5.0",
          "model_name": "FloatProgressModel",
          "state": {
            "_dom_classes": [],
            "_model_module": "@jupyter-widgets/controls",
            "_model_module_version": "1.5.0",
            "_model_name": "FloatProgressModel",
            "_view_count": null,
            "_view_module": "@jupyter-widgets/controls",
            "_view_module_version": "1.5.0",
            "_view_name": "ProgressView",
            "bar_style": "success",
            "description": "",
            "description_tooltip": null,
            "layout": "IPY_MODEL_967546f7a56b4ea18fd9728cc8180670",
            "max": 48,
            "min": 0,
            "orientation": "horizontal",
            "style": "IPY_MODEL_131b05854497444693a33e4a7e8131fd",
            "value": 48
          }
        },
        "d967cfdd065746bdae6dae34eb8f45cd": {
          "model_module": "@jupyter-widgets/controls",
          "model_module_version": "1.5.0",
          "model_name": "DescriptionStyleModel",
          "state": {
            "_model_module": "@jupyter-widgets/controls",
            "_model_module_version": "1.5.0",
            "_model_name": "DescriptionStyleModel",
            "_view_count": null,
            "_view_module": "@jupyter-widgets/base",
            "_view_module_version": "1.2.0",
            "_view_name": "StyleView",
            "description_width": ""
          }
        },
        "db52bb11acff47f6b7e819cec764969b": {
          "model_module": "@jupyter-widgets/base",
          "model_module_version": "1.2.0",
          "model_name": "LayoutModel",
          "state": {
            "_model_module": "@jupyter-widgets/base",
            "_model_module_version": "1.2.0",
            "_model_name": "LayoutModel",
            "_view_count": null,
            "_view_module": "@jupyter-widgets/base",
            "_view_module_version": "1.2.0",
            "_view_name": "LayoutView",
            "align_content": null,
            "align_items": null,
            "align_self": null,
            "border": null,
            "bottom": null,
            "display": null,
            "flex": null,
            "flex_flow": null,
            "grid_area": null,
            "grid_auto_columns": null,
            "grid_auto_flow": null,
            "grid_auto_rows": null,
            "grid_column": null,
            "grid_gap": null,
            "grid_row": null,
            "grid_template_areas": null,
            "grid_template_columns": null,
            "grid_template_rows": null,
            "height": null,
            "justify_content": null,
            "justify_items": null,
            "left": null,
            "margin": null,
            "max_height": null,
            "max_width": null,
            "min_height": null,
            "min_width": null,
            "object_fit": null,
            "object_position": null,
            "order": null,
            "overflow": null,
            "overflow_x": null,
            "overflow_y": null,
            "padding": null,
            "right": null,
            "top": null,
            "visibility": null,
            "width": null
          }
        },
        "de64e61db6fd47d988b66323b47f2900": {
          "model_module": "@jupyter-widgets/controls",
          "model_module_version": "1.5.0",
          "model_name": "HTMLModel",
          "state": {
            "_dom_classes": [],
            "_model_module": "@jupyter-widgets/controls",
            "_model_module_version": "1.5.0",
            "_model_name": "HTMLModel",
            "_view_count": null,
            "_view_module": "@jupyter-widgets/controls",
            "_view_module_version": "1.5.0",
            "_view_name": "HTMLView",
            "description": "",
            "description_tooltip": null,
            "layout": "IPY_MODEL_8ef8f0cee72541b49cf248a6278e2d77",
            "placeholder": "​",
            "style": "IPY_MODEL_580efa21652a4b488b0811acc677db45",
            "value": "tokenizer_config.json: 100%"
          }
        },
        "e2635778104c4101b98c7c7cedc9e90a": {
          "model_module": "@jupyter-widgets/base",
          "model_module_version": "1.2.0",
          "model_name": "LayoutModel",
          "state": {
            "_model_module": "@jupyter-widgets/base",
            "_model_module_version": "1.2.0",
            "_model_name": "LayoutModel",
            "_view_count": null,
            "_view_module": "@jupyter-widgets/base",
            "_view_module_version": "1.2.0",
            "_view_name": "LayoutView",
            "align_content": null,
            "align_items": null,
            "align_self": null,
            "border": null,
            "bottom": null,
            "display": null,
            "flex": null,
            "flex_flow": null,
            "grid_area": null,
            "grid_auto_columns": null,
            "grid_auto_flow": null,
            "grid_auto_rows": null,
            "grid_column": null,
            "grid_gap": null,
            "grid_row": null,
            "grid_template_areas": null,
            "grid_template_columns": null,
            "grid_template_rows": null,
            "height": null,
            "justify_content": null,
            "justify_items": null,
            "left": null,
            "margin": null,
            "max_height": null,
            "max_width": null,
            "min_height": null,
            "min_width": null,
            "object_fit": null,
            "object_position": null,
            "order": null,
            "overflow": null,
            "overflow_x": null,
            "overflow_y": null,
            "padding": null,
            "right": null,
            "top": null,
            "visibility": null,
            "width": null
          }
        },
        "e39780fd87ab4c9998ffcd8042e3a89c": {
          "model_module": "@jupyter-widgets/base",
          "model_module_version": "1.2.0",
          "model_name": "LayoutModel",
          "state": {
            "_model_module": "@jupyter-widgets/base",
            "_model_module_version": "1.2.0",
            "_model_name": "LayoutModel",
            "_view_count": null,
            "_view_module": "@jupyter-widgets/base",
            "_view_module_version": "1.2.0",
            "_view_name": "LayoutView",
            "align_content": null,
            "align_items": null,
            "align_self": null,
            "border": null,
            "bottom": null,
            "display": null,
            "flex": null,
            "flex_flow": null,
            "grid_area": null,
            "grid_auto_columns": null,
            "grid_auto_flow": null,
            "grid_auto_rows": null,
            "grid_column": null,
            "grid_gap": null,
            "grid_row": null,
            "grid_template_areas": null,
            "grid_template_columns": null,
            "grid_template_rows": null,
            "height": null,
            "justify_content": null,
            "justify_items": null,
            "left": null,
            "margin": null,
            "max_height": null,
            "max_width": null,
            "min_height": null,
            "min_width": null,
            "object_fit": null,
            "object_position": null,
            "order": null,
            "overflow": null,
            "overflow_x": null,
            "overflow_y": null,
            "padding": null,
            "right": null,
            "top": null,
            "visibility": null,
            "width": null
          }
        },
        "f9b15a35c25d4eaebccdb8313a37b545": {
          "model_module": "@jupyter-widgets/controls",
          "model_module_version": "1.5.0",
          "model_name": "HTMLModel",
          "state": {
            "_dom_classes": [],
            "_model_module": "@jupyter-widgets/controls",
            "_model_module_version": "1.5.0",
            "_model_name": "HTMLModel",
            "_view_count": null,
            "_view_module": "@jupyter-widgets/controls",
            "_view_module_version": "1.5.0",
            "_view_name": "HTMLView",
            "description": "",
            "description_tooltip": null,
            "layout": "IPY_MODEL_179a442b729e40369bbc75185f58df9a",
            "placeholder": "​",
            "style": "IPY_MODEL_d967cfdd065746bdae6dae34eb8f45cd",
            "value": " 466k/466k [00:00&lt;00:00, 14.3MB/s]"
          }
        }
      }
    }
  },
  "nbformat": 4,
  "nbformat_minor": 0
}
